{
 "cells": [
  {
   "cell_type": "markdown",
   "metadata": {},
   "source": [
    "# Project data model\n",
    "In the Project data model, we will present the details for the data preparation, model training and model evaluation."
   ]
  },
  {
   "cell_type": "markdown",
   "metadata": {},
   "source": [
    "## Data Preparation\n",
    "The primary objective during the data preparation phase is to construct a Utility Matrix that will serve as the foundation for our recommendation system. To achieve this, we will generate explicit ratings derived from the amount of time a user spends on a particular item. This approach assumes that the duration of interaction directly correlates with user preference, thereby allowing us to quantify interest levels in a meaningful way. The utility Matrix will be built using the following structure:\n",
    "\n",
    "\n",
    "\n",
    "\n",
    "| UserID    | ItemID    | Session_Duration |\n",
    "|-----------|-----------|------------------|\n",
    "| User_1    | Item_A    | 120              |\n",
    "| User_1    | Item_B    | 60               |\n",
    "| User_2    | Item_A    | 45               |\n",
    "| User_2    | Item_C    | 30               |\n",
    "| User_3    | Item_B    | 85               |\n",
    "| User_3    | Item_C    | 90               |"
   ]
  },
  {
   "cell_type": "markdown",
   "metadata": {},
   "source": [
    "### Step 1: Importing the data set"
   ]
  },
  {
   "cell_type": "markdown",
   "metadata": {},
   "source": [
    "#### Feature Selection Details\n",
    "\n",
    "In this step, we  selected specific features from the BigQuery database by running an SQL query. These features are pivotal for our analysis/model, offering insights into user behavior, session details, and product interactions. Below is an overview of the selected features and their significance:\n",
    "\n",
    "1. **`fullVisitorId` | User ID**: A unique identifier for each user visiting the website. \n",
    "\n",
    "2. **`visitNumber` | Session/Visit Number**: Indicates the ordinal number of the user's visit. For example, the first visit is 1, the second visit is 2, and so on.\n",
    "\n",
    "3. **`hits.eCommerceAction.action_type` | Ecommerce Action Type**: Categorizes the type of interaction a user had, such as viewing an item list (1), viewing a specific item (2), etc.\n",
    "\n",
    "4. **`hits.time` | Action Time**: Timestamp indicating when the action occurred.\n",
    "\n",
    "5. **`hits.hitNumber` | Event Number Within a Session**: Sequential number of the event/action within a session, starting from 1.\n",
    "\n",
    "6. **`prod.productSKU` | Product ID**: Unique identifier for each product that was interacted with.\n",
    "\n"
   ]
  },
  {
   "cell_type": "markdown",
   "metadata": {},
   "source": [
    "#### Data Retrieval Process\n",
    "\n",
    "\n",
    "During this phase, we initiated the retrieval of raw data from the BigQuery public dataset. To conduct a preliminary evaluation of our analytical model, we opted to extract a dataset entries from a singular day's worth of data (August 1, 2017).\n",
    "\n",
    "```sql\n",
    "SELECT fullVisitorId, visitNumber, h.eCommerceAction.action_type, prod.productSKU, h.time, h.hitNumber\n",
    "FROM bigquery-public-data.google_analytics_sample.ga_sessions_20170801, UNNEST(hits) as h, UNNEST(h.product) as prod\n",
    "ORDER BY fullVisitorId ASC, visitNumber ASC, h.time ASC\n",
    "```\n",
    "The results from the executed query have been saved to the file located at `data/ga_sessions_20170801.csv`."
   ]
  },
  {
   "cell_type": "markdown",
   "metadata": {},
   "source": [
    "### Step 2: Data Preprocessing"
   ]
  },
  {
   "cell_type": "markdown",
   "metadata": {},
   "source": [
    "#### Initialize Spark and necessary imports"
   ]
  },
  {
   "cell_type": "code",
   "execution_count": 2,
   "metadata": {},
   "outputs": [],
   "source": [
    "from pyspark.sql import SparkSession, functions as F, Window\n",
    "from pyspark.sql.types import StructType, StructField, StringType, IntegerType\n",
    "\n",
    "# Initialize Spark session\n",
    "def init_spark():\n",
    "    return SparkSession \\\n",
    "        .builder \\\n",
    "        .appName(\"GA360RECOMMENDER\") \\\n",
    "        .getOrCreate()\n",
    "\n",
    "spark = init_spark()"
   ]
  },
  {
   "cell_type": "markdown",
   "metadata": {},
   "source": [
    "#### Defining the Sechma and loading the data into Spark DataFrame"
   ]
  },
  {
   "cell_type": "code",
   "execution_count": 3,
   "metadata": {},
   "outputs": [
    {
     "name": "stdout",
     "output_type": "stream",
     "text": [
      "+-------------------+-----------+-----------+--------------+----+---------+\n",
      "|      fullVisitorId|visitNumber|action_type|    productSKU|time|hitNumber|\n",
      "+-------------------+-----------+-----------+--------------+----+---------+\n",
      "|0004915997121163857|          1|          0|GGOEYFKQ020699|   0|        1|\n",
      "|0004915997121163857|          1|          0|GGOEYDHJ056099|   0|        1|\n",
      "|0004915997121163857|          1|          0|GGOEYHPB072210|   0|        1|\n",
      "|0004915997121163857|          1|          0|GGOEYOCR077799|   0|        1|\n",
      "|0004915997121163857|          1|          0|  GGOEGAAX0351|   0|        1|\n",
      "+-------------------+-----------+-----------+--------------+----+---------+\n",
      "only showing top 5 rows\n",
      "\n",
      "Total number of rows in the dataframe:  47723 row\n"
     ]
    }
   ],
   "source": [
    "schema = StructType([\n",
    "    StructField(\"fullVisitorId\", StringType(), True),\n",
    "    StructField(\"visitNumber\", IntegerType(), True),\n",
    "    StructField(\"action_type\", StringType(), True),\n",
    "    StructField(\"productSKU\", StringType(), True),\n",
    "    StructField(\"time\", IntegerType(), True),\n",
    "    StructField(\"hitNumber\", IntegerType(), True)\n",
    "])\n",
    "\n",
    "df = spark.read.csv(\"../data/ga_sessions_20170801.csv\", header=True, schema=schema)\n",
    "\n",
    "df.show(5)\n",
    "print(\"Total number of rows in the dataframe: \", df.count(), \"row\")"
   ]
  },
  {
   "cell_type": "markdown",
   "metadata": {},
   "source": [
    "#### Calculate the Session Duration "
   ]
  },
  {
   "cell_type": "code",
   "execution_count": 4,
   "metadata": {},
   "outputs": [
    {
     "name": "stdout",
     "output_type": "stream",
     "text": [
      "+-------------------+--------------+----------------+\n",
      "|      fullVisitorId|    productSKU|session_duration|\n",
      "+-------------------+--------------+----------------+\n",
      "|0049931492016965831|GGOEGEVA022399|            9821|\n",
      "|0052381813974609729|GGOEAOCB077499|           14292|\n",
      "|0052381813974609729|GGOEGOCB017499|            6931|\n",
      "|0052381813974609729|GGOEGOCC077299|            4745|\n",
      "| 008016723867009901|GGOEGESB015099|            1488|\n",
      "| 008016723867009901|GGOEGBJL013999|            1419|\n",
      "| 008016723867009901|GGOEGDHC074099|            1394|\n",
      "| 008016723867009901|GGOEGESC014099|               0|\n",
      "| 008016723867009901|GGOEGCKQ013199|               1|\n",
      "| 008016723867009901|GGOEACCQ017299|               0|\n",
      "+-------------------+--------------+----------------+\n",
      "only showing top 10 rows\n",
      "\n"
     ]
    }
   ],
   "source": [
    "# Define window specification for calculating pageview durations\n",
    "windowSpec = Window.partitionBy(\"fullVisitorId\", \"visitNumber\").orderBy(\"time\")\n",
    "\n",
    "# Calculate the next hit's time and pageview duration\n",
    "df_with_durations = df.withColumn(\"next_time\", F.lead(\"time\", 1).over(windowSpec)) \\\n",
    "                      .withColumn(\"pageview_duration\", F.when(F.isnull(F.col(\"next_time\") - F.col(\"time\")), 1)\n",
    "                                                          .otherwise(F.col(\"next_time\") - F.col(\"time\")))\n",
    "\n",
    "# Filter for product detail views only \n",
    "prodview_durations = df_with_durations.filter(df_with_durations.action_type == '2') \\\n",
    "                                      .select(\"fullVisitorId\", \"visitNumber\", \"productSKU\", \"pageview_duration\")\n",
    "\n",
    "# Aggregate pageview durations by fullVisitorId and productSKU\n",
    "aggregate_web_stats = prodview_durations.groupBy(\"fullVisitorId\", \"productSKU\") \\\n",
    "                                        .agg(F.sum(\"pageview_duration\").alias(\"session_duration\"))\n",
    "\n",
    "# Display the aggregated results\n",
    "aggregate_web_stats.orderBy(aggregate_web_stats.fullVisitorId.asc()).show(10)"
   ]
  },
  {
   "cell_type": "markdown",
   "metadata": {},
   "source": [
    "#### Normalization with Z-Score\n",
    "In this phase, we apply Z-Score normalization to the session durations to standardize the data, ensuring it has a mean of 0 and a standard deviation of 1. This technique is chosen to normalize the variability across users' interactions, making the dataset more suitable for collaborative filtering algorithms by mitigating the influence of outliers and varying scales of engagement."
   ]
  },
  {
   "cell_type": "code",
   "execution_count": 5,
   "metadata": {},
   "outputs": [
    {
     "name": "stdout",
     "output_type": "stream",
     "text": [
      "+-------------------+--------------+----------------+-------------------+\n",
      "|      fullVisitorId|    productSKU|session_duration|normalized_duration|\n",
      "+-------------------+--------------+----------------+-------------------+\n",
      "|0834628261584717467|  GGOEGAAX0325|         1527925| 14.694681589535893|\n",
      "|0834628261584717467|  GGOEGAAX0686|         1470110| 14.131252184050535|\n",
      "|0485797735449723544|GGOEGESB015199|         1172597| 11.231873602122572|\n",
      "| 431781159932899381|GGOEGBRJ037299|          759499| 7.2060747515268755|\n",
      "|7484497031611210287|GGOEYHPB072210|          748694|  7.100775871888905|\n",
      "|5873059317509196502|  GGOEGAAX0104|          594894| 5.6019357341452745|\n",
      "|2863022817351466072|GGOEYFKQ020699|          536689|  5.034705628700749|\n",
      "|7641607978785523241|GGOEGGCX056199|          443459|  4.126143430769419|\n",
      "|2827498353821012092|  GGOEGAAX0680|          427854| 3.9740667054801513|\n",
      "|1933634293342529288|GGOEGDHQ015399|          370320|  3.413375753042297|\n",
      "+-------------------+--------------+----------------+-------------------+\n",
      "only showing top 10 rows\n",
      "\n"
     ]
    }
   ],
   "source": [
    "from pyspark.sql.functions import mean, stddev\n",
    "\n",
    "# Calculate the mean and standard deviation of session_duration\n",
    "mean_val = aggregate_web_stats.select(mean(aggregate_web_stats['session_duration'])).collect()[0][0]\n",
    "stddev_val = aggregate_web_stats.select(stddev(aggregate_web_stats['session_duration'])).collect()[0][0]\n",
    "\n",
    "# Apply Z-score normalization\n",
    "normalized_df = aggregate_web_stats.withColumn('normalized_duration', \n",
    "                   (aggregate_web_stats['session_duration'] - mean_val) / stddev_val)\n",
    "\n",
    "normalized_df.orderBy(normalized_df.normalized_duration.desc()).show(10)"
   ]
  },
  {
   "cell_type": "code",
   "execution_count": 6,
   "metadata": {},
   "outputs": [
    {
     "name": "stdout",
     "output_type": "stream",
     "text": [
      "+-------------------+--------------+--------------+--------------+--------------+--------------+--------------+--------------+--------------------+--------------+--------------+--------------+------------+------------+------------+------------+------------+------------+------------+-------------------+------------+------------+------------+------------+------------+------------+------------+------------+------------+------------+------------+------------+------------+------------+------------+------------+------------+------------+------------+------------+------------+------------+------------+------------+------------+------------+------------+------------+------------+------------+------------+------------+------------+------------+------------+------------+------------+------------+------------+------------+------------+------------+------------+------------+------------+------------+------------+--------------------+------------+------------+------------+------------+------------+------------+------------+------------+------------+------------+------------+------------+------------+------------+------------+------------+------------+-------------------+------------+------------+------------+------------+------------+------------+------------+--------------+--------------+--------------+--------------+--------------+--------------+--------------+--------------+--------------+--------------------+--------------+--------------+--------------+--------------+--------------+--------------+--------------+--------------+--------------+--------------+--------------+--------------+--------------+--------------+--------------+--------------+--------------+--------------+--------------+--------------+--------------+--------------+--------------+--------------+--------------+--------------+--------------+--------------+--------------+--------------+--------------+--------------+--------------+--------------+--------------+--------------+--------------+--------------+--------------+--------------+--------------+--------------+--------------+--------------+--------------+--------------+-------------------+--------------+-------------------+--------------+--------------+--------------+--------------+--------------+--------------+--------------+--------------+-------------------+--------------+--------------------+--------------+--------------+--------------+------------+--------------+--------------+--------------+-------------------+-------------------+--------------+--------------+\n",
      "|      fullVisitorId|GGOEA0CH077599|GGOEACCQ017299|GGOEADHH055999|GGOEADHH073999|GGOEADWQ015699|GGOEAFKQ020499|GGOEAFKQ020599|      GGOEAHPA004110|GGOEAHPJ074410|GGOEAKDH019899|GGOEAOCB077499|GGOEAXXX0808|GGOEAXXX0810|GGOEAXXX0812|GGOEGAAX0037|GGOEGAAX0074|GGOEGAAX0081|GGOEGAAX0098|       GGOEGAAX0104|GGOEGAAX0105|GGOEGAAX0106|GGOEGAAX0107|GGOEGAAX0168|GGOEGAAX0278|GGOEGAAX0280|GGOEGAAX0282|GGOEGAAX0290|GGOEGAAX0296|GGOEGAAX0299|GGOEGAAX0304|GGOEGAAX0306|GGOEGAAX0308|GGOEGAAX0309|GGOEGAAX0313|GGOEGAAX0318|GGOEGAAX0320|GGOEGAAX0323|GGOEGAAX0325|GGOEGAAX0326|GGOEGAAX0329|GGOEGAAX0330|GGOEGAAX0334|GGOEGAAX0338|GGOEGAAX0341|GGOEGAAX0342|GGOEGAAX0351|GGOEGAAX0352|GGOEGAAX0353|GGOEGAAX0356|GGOEGAAX0357|GGOEGAAX0358|GGOEGAAX0361|GGOEGAAX0364|GGOEGAAX0365|GGOEGAAX0366|GGOEGAAX0567|GGOEGAAX0568|GGOEGAAX0569|GGOEGAAX0570|GGOEGAAX0578|GGOEGAAX0579|GGOEGAAX0580|GGOEGAAX0588|GGOEGAAX0592|GGOEGAAX0593|GGOEGAAX0595|        GGOEGAAX0596|GGOEGAAX0602|GGOEGAAX0604|GGOEGAAX0606|GGOEGAAX0607|GGOEGAAX0610|GGOEGAAX0617|GGOEGAAX0618|GGOEGAAX0619|GGOEGAAX0620|GGOEGAAX0622|GGOEGAAX0625|GGOEGAAX0626|GGOEGAAX0651|GGOEGAAX0655|GGOEGAAX0661|GGOEGAAX0671|GGOEGAAX0680|       GGOEGAAX0682|GGOEGAAX0686|GGOEGAAX0690|GGOEGAAX0731|GGOEGAAX0733|GGOEGAAX0761|GGOEGAAX0781|GGOEGAAX0795|GGOEGBCR024399|GGOEGBFC018799|GGOEGBJC014399|GGOEGBJC019999|GGOEGBJL013999|GGOEGBMC056599|GGOEGBMJ013399|GGOEGBPB021199|GGOEGBPB082099|      GGOEGBRA037499|GGOEGBRB013899|GGOEGBRJ037299|GGOEGBRJ037399|GGOEGCBB074199|GGOEGCBB074399|GGOEGCBC074299|GGOEGCBQ016499|GGOEGCKQ013199|GGOEGCMB020932|GGOEGCNB021099|GGOEGDHC015299|GGOEGDHC074099|GGOEGDHQ015399|GGOEGDHR082199|GGOEGDWR015799|GGOEGEHQ024099|GGOEGEHQ071199|GGOEGEHQ072499|GGOEGEHQ072599|GGOEGESB015099|GGOEGESB015199|GGOEGESC014099|GGOEGESQ016799|GGOEGETB023799|GGOEGEVA022399|GGOEGEVB070599|GGOEGFAQ016699|GGOEGFKA022299|GGOEGFKQ020399|GGOEGFKQ020799|GGOEGFQB013799|GGOEGFSR022099|GGOEGFYQ016599|GGOEGGCX056199|GGOEGGCX056299|GGOEGGOA017399|GGOEGHPB003410|GGOEGHPB071610|GGOEGHPJ080310|GGOEGHPL003214|GGOEGKAA019299|GGOEGKWQ060910|GGOEGKWR060810|GGOEGOAB021499|GGOEGOAB022499|GGOEGOAQ012899|     GGOEGOAQ018099|GGOEGOAQ020099|     GGOEGOAR013099|GGOEGOBC078699|GGOEGOBG023599|GGOEGOCB017499|GGOEGOCC077299|GGOEGOCC077999|GGOEGOCD078399|GGOEGOCL077699|GGOEGOCR078499|     GGOEGODR017799|GGOEGOFH020299|      GGOEGOLC013299|GGOEGOLC014299|GGOEGOXQ016399|GGOEGPJC203399|GGOEGXXX0806|GGOEWAEA083899|GGOEWCKQ085457|GGOEWEBB082699|     GGOEYDHJ056099|     GGOEYFKQ020699|GGOEYHPB072210|GGOEYOCR077799|\n",
      "+-------------------+--------------+--------------+--------------+--------------+--------------+--------------+--------------+--------------------+--------------+--------------+--------------+------------+------------+------------+------------+------------+------------+------------+-------------------+------------+------------+------------+------------+------------+------------+------------+------------+------------+------------+------------+------------+------------+------------+------------+------------+------------+------------+------------+------------+------------+------------+------------+------------+------------+------------+------------+------------+------------+------------+------------+------------+------------+------------+------------+------------+------------+------------+------------+------------+------------+------------+------------+------------+------------+------------+------------+--------------------+------------+------------+------------+------------+------------+------------+------------+------------+------------+------------+------------+------------+------------+------------+------------+------------+------------+-------------------+------------+------------+------------+------------+------------+------------+------------+--------------+--------------+--------------+--------------+--------------+--------------+--------------+--------------+--------------+--------------------+--------------+--------------+--------------+--------------+--------------+--------------+--------------+--------------+--------------+--------------+--------------+--------------+--------------+--------------+--------------+--------------+--------------+--------------+--------------+--------------+--------------+--------------+--------------+--------------+--------------+--------------+--------------+--------------+--------------+--------------+--------------+--------------+--------------+--------------+--------------+--------------+--------------+--------------+--------------+--------------+--------------+--------------+--------------+--------------+--------------+--------------+-------------------+--------------+-------------------+--------------+--------------+--------------+--------------+--------------+--------------+--------------+--------------+-------------------+--------------+--------------------+--------------+--------------+--------------+------------+--------------+--------------+--------------+-------------------+-------------------+--------------+--------------+\n",
      "|1311003026247678016|          NULL|          NULL|          NULL|          NULL|          NULL|          NULL|          NULL|                NULL|          NULL|          NULL|          NULL|        NULL|        NULL|        NULL|        NULL|        NULL|        NULL|        NULL|               NULL|        NULL|        NULL|        NULL|        NULL|        NULL|        NULL|        NULL|        NULL|        NULL|        NULL|        NULL|        NULL|        NULL|        NULL|        NULL|        NULL|        NULL|        NULL|        NULL|        NULL|        NULL|        NULL|        NULL|        NULL|        NULL|        NULL|        NULL|        NULL|        NULL|        NULL|        NULL|        NULL|        NULL|        NULL|        NULL|        NULL|        NULL|        NULL|        NULL|        NULL|        NULL|        NULL|        NULL|        NULL|        NULL|        NULL|        NULL|                NULL|        NULL|        NULL|        NULL|        NULL|        NULL|        NULL|        NULL|        NULL|        NULL|        NULL|        NULL|        NULL|        NULL|        NULL|        NULL|        NULL|        NULL|               NULL|        NULL|        NULL|        NULL|        NULL|        NULL|        NULL|        NULL|          NULL|          NULL|          NULL|          NULL|          NULL|          NULL|          NULL|          NULL|          NULL|                NULL|          NULL|          NULL|          NULL|          NULL|          NULL|          NULL|          NULL|          NULL|          NULL|          NULL|          NULL|          NULL|          NULL|          NULL|          NULL|          NULL|          NULL|          NULL|          NULL|          NULL|          NULL|          NULL|          NULL|          NULL|          NULL|          NULL|          NULL|          NULL|          NULL|          NULL|          NULL|          NULL|          NULL|          NULL|          NULL|          NULL|          NULL|          NULL|          NULL|          NULL|          NULL|          NULL|          NULL|          NULL|          NULL|          NULL|               NULL|          NULL|               NULL|          NULL|          NULL|          NULL|          NULL|          NULL|          NULL|          NULL|          NULL|               NULL|          NULL|-0.12517336278808078|          NULL|          NULL|          NULL|        NULL|          NULL|          NULL|          NULL|               NULL|               NULL|          NULL|          NULL|\n",
      "|1059770176518504832|          NULL|          NULL|          NULL|          NULL|          NULL|          NULL|          NULL|-0.19546682126366466|          NULL|          NULL|          NULL|        NULL|        NULL|        NULL|        NULL|        NULL|        NULL|        NULL|-0.1955252935707288|        NULL|        NULL|        NULL|        NULL|        NULL|        NULL|        NULL|        NULL|        NULL|        NULL|        NULL|        NULL|        NULL|        NULL|        NULL|        NULL|        NULL|        NULL|        NULL|        NULL|        NULL|        NULL|        NULL|        NULL|        NULL|        NULL|        NULL|        NULL|        NULL|        NULL|        NULL|        NULL|        NULL|        NULL|        NULL|        NULL|        NULL|        NULL|        NULL|        NULL|        NULL|        NULL|        NULL|        NULL|        NULL|        NULL|        NULL|-0.17499176840671168|        NULL|        NULL|        NULL|        NULL|        NULL|        NULL|        NULL|        NULL|        NULL|        NULL|        NULL|        NULL|        NULL|        NULL|        NULL|        NULL|        NULL|               NULL|        NULL|        NULL|        NULL|        NULL|        NULL|        NULL|        NULL|          NULL|          NULL|          NULL|          NULL|          NULL|          NULL|          NULL|          NULL|          NULL|-0.16902759308617138|          NULL|          NULL|          NULL|          NULL|          NULL|          NULL|          NULL|          NULL|          NULL|          NULL|          NULL|          NULL|          NULL|          NULL|          NULL|          NULL|          NULL|          NULL|          NULL|          NULL|          NULL|          NULL|          NULL|          NULL|          NULL|          NULL|          NULL|          NULL|          NULL|          NULL|          NULL|          NULL|          NULL|          NULL|          NULL|          NULL|          NULL|          NULL|          NULL|          NULL|          NULL|          NULL|          NULL|          NULL|          NULL|          NULL|               NULL|          NULL|               NULL|          NULL|          NULL|          NULL|          NULL|          NULL|          NULL|          NULL|          NULL|               NULL|          NULL|                NULL|          NULL|          NULL|          NULL|        NULL|          NULL|          NULL|          NULL|               NULL|               NULL|          NULL|          NULL|\n",
      "|2608714709593599798|          NULL|          NULL|          NULL|          NULL|          NULL|          NULL|          NULL|                NULL|          NULL|          NULL|          NULL|        NULL|        NULL|        NULL|        NULL|        NULL|        NULL|        NULL|               NULL|        NULL|        NULL|        NULL|        NULL|        NULL|        NULL|        NULL|        NULL|        NULL|        NULL|        NULL|        NULL|        NULL|        NULL|        NULL|        NULL|        NULL|        NULL|        NULL|        NULL|        NULL|        NULL|        NULL|        NULL|        NULL|        NULL|        NULL|        NULL|        NULL|        NULL|        NULL|        NULL|        NULL|        NULL|        NULL|        NULL|        NULL|        NULL|        NULL|        NULL|        NULL|        NULL|        NULL|        NULL|        NULL|        NULL|        NULL|                NULL|        NULL|        NULL|        NULL|        NULL|        NULL|        NULL|        NULL|        NULL|        NULL|        NULL|        NULL|        NULL|        NULL|        NULL|        NULL|        NULL|        NULL|               NULL|        NULL|        NULL|        NULL|        NULL|        NULL|        NULL|        NULL|          NULL|          NULL|          NULL|          NULL|          NULL|          NULL|          NULL|          NULL|          NULL|                NULL|          NULL|          NULL|          NULL|          NULL|          NULL|          NULL|          NULL|          NULL|          NULL|          NULL|          NULL|          NULL|          NULL|          NULL|          NULL|          NULL|          NULL|          NULL|          NULL|          NULL|          NULL|          NULL|          NULL|          NULL|          NULL|          NULL|          NULL|          NULL|          NULL|          NULL|          NULL|          NULL|          NULL|          NULL|          NULL|          NULL|          NULL|          NULL|          NULL|          NULL|          NULL|          NULL|          NULL|          NULL|          NULL|          NULL|               NULL|          NULL|               NULL|          NULL|          NULL|          NULL|          NULL|          NULL|          NULL|          NULL|          NULL|               NULL|          NULL|                NULL|          NULL|          NULL|          NULL|        NULL|          NULL|          NULL|          NULL|-0.1955252935707288|-0.1818525191022352|          NULL|          NULL|\n",
      "|1633146081774573328|          NULL|          NULL|          NULL|          NULL|          NULL|          NULL|          NULL|                NULL|          NULL|          NULL|          NULL|        NULL|        NULL|        NULL|        NULL|        NULL|        NULL|        NULL|               NULL|        NULL|        NULL|        NULL|        NULL|        NULL|        NULL|        NULL|        NULL|        NULL|        NULL|        NULL|        NULL|        NULL|        NULL|        NULL|        NULL|        NULL|        NULL|        NULL|        NULL|        NULL|        NULL|        NULL|        NULL|        NULL|        NULL|        NULL|        NULL|        NULL|        NULL|        NULL|        NULL|        NULL|        NULL|        NULL|        NULL|        NULL|        NULL|        NULL|        NULL|        NULL|        NULL|        NULL|        NULL|        NULL|        NULL|        NULL|                NULL|        NULL|        NULL|        NULL|        NULL|        NULL|        NULL|        NULL|        NULL|        NULL|        NULL|        NULL|        NULL|        NULL|        NULL|        NULL|        NULL|        NULL|0.10243983784352019|        NULL|        NULL|        NULL|        NULL|        NULL|        NULL|        NULL|          NULL|          NULL|          NULL|          NULL|          NULL|          NULL|          NULL|          NULL|          NULL|-0.12373104588049912|          NULL|          NULL|          NULL|          NULL|          NULL|          NULL|          NULL|          NULL|          NULL|          NULL|          NULL|          NULL|          NULL|          NULL|          NULL|          NULL|          NULL|          NULL|          NULL|          NULL|          NULL|          NULL|          NULL|          NULL|          NULL|          NULL|          NULL|          NULL|          NULL|          NULL|          NULL|          NULL|          NULL|          NULL|          NULL|          NULL|          NULL|          NULL|          NULL|          NULL|          NULL|          NULL|          NULL|          NULL|          NULL|          NULL|-0.1955252935707288|          NULL|-0.1955252935707288|          NULL|          NULL|          NULL|          NULL|          NULL|          NULL|          NULL|          NULL|               NULL|          NULL|                NULL|          NULL|          NULL|          NULL|        NULL|          NULL|          NULL|          NULL|               NULL|               NULL|          NULL|          NULL|\n",
      "| 051121380870457542|          NULL|          NULL|          NULL|          NULL|          NULL|          NULL|          NULL|                NULL|          NULL|          NULL|          NULL|        NULL|        NULL|        NULL|        NULL|        NULL|        NULL|        NULL|               NULL|        NULL|        NULL|        NULL|        NULL|        NULL|        NULL|        NULL|        NULL|        NULL|        NULL|        NULL|        NULL|        NULL|        NULL|        NULL|        NULL|        NULL|        NULL|        NULL|        NULL|        NULL|        NULL|        NULL|        NULL|        NULL|        NULL|        NULL|        NULL|        NULL|        NULL|        NULL|        NULL|        NULL|        NULL|        NULL|        NULL|        NULL|        NULL|        NULL|        NULL|        NULL|        NULL|        NULL|        NULL|        NULL|        NULL|        NULL|                NULL|        NULL|        NULL|        NULL|        NULL|        NULL|        NULL|        NULL|        NULL|        NULL|        NULL|        NULL|        NULL|        NULL|        NULL|        NULL|        NULL|        NULL|               NULL|        NULL|        NULL|        NULL|        NULL|        NULL|        NULL|        NULL|          NULL|          NULL|          NULL|          NULL|          NULL|          NULL|          NULL|          NULL|          NULL|                NULL|          NULL|          NULL|          NULL|          NULL|          NULL|          NULL|          NULL|          NULL|          NULL|          NULL|          NULL|          NULL|          NULL|          NULL|          NULL|          NULL|          NULL|          NULL|          NULL|          NULL|          NULL|          NULL|          NULL|          NULL|          NULL|          NULL|          NULL|          NULL|          NULL|          NULL|          NULL|          NULL|          NULL|          NULL|          NULL|          NULL|          NULL|          NULL|          NULL|          NULL|          NULL|          NULL|          NULL|          NULL|          NULL|          NULL|               NULL|          NULL|               NULL|          NULL|          NULL|          NULL|          NULL|          NULL|          NULL|          NULL|          NULL|-0.1720291715154629|          NULL|                NULL|          NULL|          NULL|          NULL|        NULL|          NULL|          NULL|          NULL|               NULL|               NULL|          NULL|          NULL|\n",
      "+-------------------+--------------+--------------+--------------+--------------+--------------+--------------+--------------+--------------------+--------------+--------------+--------------+------------+------------+------------+------------+------------+------------+------------+-------------------+------------+------------+------------+------------+------------+------------+------------+------------+------------+------------+------------+------------+------------+------------+------------+------------+------------+------------+------------+------------+------------+------------+------------+------------+------------+------------+------------+------------+------------+------------+------------+------------+------------+------------+------------+------------+------------+------------+------------+------------+------------+------------+------------+------------+------------+------------+------------+--------------------+------------+------------+------------+------------+------------+------------+------------+------------+------------+------------+------------+------------+------------+------------+------------+------------+------------+-------------------+------------+------------+------------+------------+------------+------------+------------+--------------+--------------+--------------+--------------+--------------+--------------+--------------+--------------+--------------+--------------------+--------------+--------------+--------------+--------------+--------------+--------------+--------------+--------------+--------------+--------------+--------------+--------------+--------------+--------------+--------------+--------------+--------------+--------------+--------------+--------------+--------------+--------------+--------------+--------------+--------------+--------------+--------------+--------------+--------------+--------------+--------------+--------------+--------------+--------------+--------------+--------------+--------------+--------------+--------------+--------------+--------------+--------------+--------------+--------------+--------------+--------------+-------------------+--------------+-------------------+--------------+--------------+--------------+--------------+--------------+--------------+--------------+--------------+-------------------+--------------+--------------------+--------------+--------------+--------------+------------+--------------+--------------+--------------+-------------------+-------------------+--------------+--------------+\n",
      "only showing top 5 rows\n",
      "\n"
     ]
    }
   ],
   "source": [
    "utility_matrix = normalized_df.groupBy(\"fullVisitorId\").pivot(\"productSKU\").agg(F.first(\"normalized_duration\"))\n",
    "\n",
    "# Show the result\n",
    "utility_matrix.show(5)"
   ]
  },
  {
   "cell_type": "markdown",
   "metadata": {},
   "source": [
    "## Building The Model"
   ]
  },
  {
   "cell_type": "markdown",
   "metadata": {},
   "source": [
    "### Latent Factor Model\n",
    "\n",
    "In this step, we build the latent factor model, in order to predict P and Q matrices. We will use the alternating least squares to optimize the learning of the model."
   ]
  },
  {
   "cell_type": "markdown",
   "metadata": {},
   "source": [
    "#### Ids To Numeric\n",
    "Convert string item and user ids to numeric for the ALS model to accept."
   ]
  },
  {
   "cell_type": "code",
   "execution_count": 39,
   "metadata": {},
   "outputs": [
    {
     "name": "stdout",
     "output_type": "stream",
     "text": [
      "+-------------------+--------------+----------------+--------------------+------+------+\n",
      "|      fullVisitorId|    productSKU|session_duration| normalized_duration|userId|itemId|\n",
      "+-------------------+--------------+----------------+--------------------+------+------+\n",
      "|0049931492016965831|GGOEGEVA022399|            9821|-0.09982561767578439| 165.0|   8.0|\n",
      "|0052381813974609729|GGOEAOCB077499|           14292| -0.0562540035285037|  49.0|  20.0|\n",
      "|0052381813974609729|GGOEGOCB017499|            6931|-0.12798977891166924|  49.0|  21.0|\n",
      "|0052381813974609729|GGOEGOCC077299|            4745| -0.1492931894520306|  49.0|  22.0|\n",
      "| 008016723867009901|GGOEGESB015099|            1488| -0.1810339068033375|  12.0|  42.0|\n",
      "| 008016723867009901|GGOEGESC014099|               0|-0.19553503895523947|  12.0|  74.0|\n",
      "| 008016723867009901|GGOEGDHC074099|            1394|-0.18194997294734208|  12.0|  13.0|\n",
      "| 008016723867009901|GGOEGBJL013999|            1419| -0.1817063383345749|  12.0|   9.0|\n",
      "| 008016723867009901|GGOEGCKQ013199|               1| -0.1955252935707288|  12.0| 120.0|\n",
      "| 008016723867009901|GGOEACCQ017299|               0|-0.19553503895523947|  12.0|  45.0|\n",
      "| 008016723867009901|GGOEGBPB021199|            1292|-0.18294400216743212|  12.0|  41.0|\n",
      "|0082784177006211656|GGOEGKWQ060910|            5509|-0.14184771568586588|  29.0|  78.0|\n",
      "|0082784177006211656|GGOEGKWR060810|            1782| -0.1781687637571956|  29.0|  79.0|\n",
      "|0082784177006211656|  GGOEGAAX0617|            8638|-0.11135440755192688|  29.0|  71.0|\n",
      "|0082784177006211656|  GGOEGAAX0610|               0|-0.19553503895523947|  29.0| 156.0|\n",
      "| 008974926326637231|  GGOEGAAX0351|           16293|-0.03675348912261941|  95.0|  30.0|\n",
      "| 008974926326637231|  GGOEGAAX0325|           13752|-0.06151651116427...|  95.0|  14.0|\n",
      "|0091712978079395246|GGOEGGOA017399|            3031|-0.16599677850334776|  50.0|  76.0|\n",
      "|0091712978079395246|GGOEGOAQ020099|            1812|-0.17787640222187498|  50.0| 128.0|\n",
      "|0091712978079395246|GGOEGOCB017499|            2141|-0.17467017071785904|  50.0|  21.0|\n",
      "+-------------------+--------------+----------------+--------------------+------+------+\n",
      "only showing top 20 rows\n",
      "\n"
     ]
    }
   ],
   "source": [
    "from pyspark.ml.feature import StringIndexer\n",
    "from pyspark.ml import Pipeline\n",
    "\n",
    "def string_to_Numeric(df):\n",
    "    userIndexer = StringIndexer(inputCol=\"fullVisitorId\", outputCol=\"userId\").setHandleInvalid(\"skip\")\n",
    "    itemIndexer = StringIndexer(inputCol=\"productSKU\", outputCol=\"itemId\").setHandleInvalid(\"skip\")\n",
    "\n",
    "    # Pipeline to apply the transformations\n",
    "    pipeline = Pipeline(stages=[userIndexer, itemIndexer])\n",
    "\n",
    "    # Fit and transform\n",
    "    transformed_ratings_dataFrame = pipeline.fit(df).transform(df)\n",
    "\n",
    "    transformed_ratings_dataFrame.orderBy(transformed_ratings_dataFrame.fullVisitorId).show()\n",
    "    \n",
    "    return transformed_ratings_dataFrame\n",
    "\n",
    "\n",
    "ratings_dataframe = string_to_Numeric(normalized_df)\n"
   ]
  },
  {
   "cell_type": "markdown",
   "metadata": {},
   "source": [
    "#### Basic ALS Recommender System"
   ]
  },
  {
   "cell_type": "code",
   "execution_count": 47,
   "metadata": {},
   "outputs": [
    {
     "data": {
      "text/plain": [
       "1.1818651178071158"
      ]
     },
     "execution_count": 47,
     "metadata": {},
     "output_type": "execute_result"
    }
   ],
   "source": [
    "from pyspark.ml.evaluation import RegressionEvaluator\n",
    "from pyspark.ml.recommendation import ALS\n",
    "\n",
    "\n",
    "\n",
    "def basic_als_recommender(ratings_dataframe, seed):\n",
    "    '''\n",
    "    This function must print the RMSE of recommendations obtained\n",
    "    through ALS collaborative filtering.\n",
    "    \n",
    "    The following parameters must be used in the ALS\n",
    "    optimizer:\n",
    "    - maxIter: 5\n",
    "    - rank: 70\n",
    "    - regParam: 0.01\n",
    "    - coldStartStrategy: 'drop'\n",
    "    '''\n",
    "\n",
    "    (trainingSet, testSet) = ratings_dataframe.randomSplit([0.8, 0.2], seed)\n",
    "\n",
    "    #Build the recommendation model\n",
    "    als = ALS(maxIter=5, rank=70, regParam=0.01, coldStartStrategy=\"drop\", userCol=\"userId\", itemCol=\"itemId\", ratingCol=\"normalized_duration\", seed=seed)\n",
    "    model = als.fit(trainingSet)\n",
    "\n",
    "    #Evaluate the model\n",
    "    predictions = model.transform(testSet)\n",
    "    evaluator = RegressionEvaluator(metricName=\"rmse\", labelCol=\"normalized_duration\", predictionCol=\"prediction\")\n",
    "\n",
    "    rmse = evaluator.evaluate(predictions)\n",
    "\n",
    "    return rmse\n",
    "\n",
    "\n",
    "basic_als_recommender(ratings_dataframe, 123)"
   ]
  },
  {
   "cell_type": "markdown",
   "metadata": {},
   "source": [
    "#### ALS With Bias Recommender"
   ]
  },
  {
   "cell_type": "code",
   "execution_count": 40,
   "metadata": {},
   "outputs": [
    {
     "data": {
      "text/plain": [
       "1.2834586861809087"
      ]
     },
     "execution_count": 40,
     "metadata": {},
     "output_type": "execute_result"
    }
   ],
   "source": [
    "from pyspark.sql.functions import mean\n",
    "\n",
    "def global_average(ratings_df, seed):\n",
    "    '''\n",
    "    This function must print the global average rating for all users and\n",
    "    all movies in the training set. Training and test\n",
    "    sets should be determined as before (e.g: as in function basic_als_recommender).\n",
    "    Test file: tests/test_global_average.py\n",
    "    '''\n",
    "    splits = ratings_df.randomSplit([0.8, 0.2], seed)\n",
    "    training_set = splits[0]\n",
    "\n",
    "    #now just return the average of the ratings in the training_set\n",
    "    rating_average = training_set.agg({\"normalized_duration\": \"avg\"}).collect()[0][0]\n",
    "\n",
    "    return rating_average\n",
    "\n",
    "\n",
    "\n",
    "def als_with_bias_recommender(ratings_df, seed):\n",
    "    '''\n",
    "    This function must return the RMSE of recommendations obtained \n",
    "    using ALS + biases. Your ALS model should make predictions for *i*, \n",
    "    the user-item interaction, then you should recompute the predicted \n",
    "    rating with the formula *i+user_mean+item_mean-m* (*m* is the \n",
    "    global rating). The RMSE should compare the original rating column \n",
    "    and the predicted rating column.  Training and test sets should be \n",
    "    determined as before. Your ALS model should use the same parameters \n",
    "    as before and be initialized with the random seed passed as \n",
    "    parameter. Test file: tests/test_als_with_bias_recommender.py\n",
    "    '''\n",
    "\n",
    "    splits = ratings_df.randomSplit([0.8, 0.2], seed)\n",
    "\n",
    "    training_set = splits[0]\n",
    "    test_set = splits[1]\n",
    "\n",
    "    user_mean = training_set.groupby(\"userId\").agg(mean(\"normalized_duration\").alias(\"user_mean\"))\n",
    "    item_mean = training_set.groupby(\"itemId\").agg(mean(\"normalized_duration\").alias(\"item_mean\"))\n",
    "\n",
    "    training_set_with_means = training_set.join(user_mean, \"userId\").join(item_mean, \"itemId\")\n",
    "    test_set_with_means = test_set.join(user_mean, \"userId\").join(item_mean, \"itemId\")\n",
    "\n",
    "    global_mean = global_average(ratings_df, seed)\n",
    "\n",
    "    final_training_set = training_set_with_means.withColumn(\"user_item_interaction\", training_set_with_means.normalized_duration - (\n",
    "                training_set_with_means.user_mean + training_set_with_means.item_mean - global_mean))\n",
    "\n",
    "\n",
    "    #Build the recommendation model\n",
    "    als = ALS(maxIter=5, rank=70, regParam=0.01, coldStartStrategy=\"drop\", userCol=\"userId\", itemCol=\"itemId\", ratingCol=\"user_item_interaction\", seed=seed)\n",
    "    model = als.fit(final_training_set)\n",
    "\n",
    "    # Evaluate the model by computing the RMSE on the test data\n",
    "    predictions = model.transform(test_set_with_means)\n",
    "    predictions = predictions.withColumn(\"prediction_eval\", predictions['prediction']+predictions['user_mean']+predictions['item_mean']-global_mean)\n",
    "    evaluator = RegressionEvaluator(metricName=\"rmse\", labelCol=\"normalized_duration\", predictionCol=\"prediction_eval\")\n",
    "\n",
    "    rmse = evaluator.evaluate(predictions)\n",
    "\n",
    "    return rmse\n",
    "\n",
    "als_with_bias_recommender(ratings_dataframe, 123)"
   ]
  },
  {
   "cell_type": "markdown",
   "metadata": {},
   "source": [
    "#### Intermediate Results Discussion\n",
    "\n",
    "the ALS RMSE = 1.1818651178071158\n",
    "the ALS+biases RMSE = 1.2834586861809087"
   ]
  }
 ],
 "metadata": {
  "kernelspec": {
   "display_name": "Python 3",
   "language": "python",
   "name": "python3"
  },
  "language_info": {
   "codemirror_mode": {
    "name": "ipython",
    "version": 3
   },
   "file_extension": ".py",
   "mimetype": "text/x-python",
   "name": "python",
   "nbconvert_exporter": "python",
   "pygments_lexer": "ipython3",
   "version": "3.11.8"
  }
 },
 "nbformat": 4,
 "nbformat_minor": 2
}
