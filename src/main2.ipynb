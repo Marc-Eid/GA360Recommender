{
 "cells": [
  {
   "cell_type": "markdown",
   "metadata": {},
   "source": [
    "# Project data model\n",
    "In the Project data model, we will present the details for the data preparation, model training and model evaluation."
   ]
  },
  {
   "cell_type": "markdown",
   "metadata": {},
   "source": [
    "## Data Preparation\n",
    "The primary objective during the data preparation phase is to construct a Utility Matrix that will serve as the foundation for our recommendation system. To achieve this, we will generate explicit ratings derived from the amount of time a user spends on a particular item. This approach assumes that the duration of interaction directly correlates with user preference, thereby allowing us to quantify interest levels in a meaningful way. The utility Matrix will be built using the following structure:\n",
    "\n",
    "\n",
    "\n",
    "\n",
    "| UserID    | ItemID    | Session_Duration |\n",
    "|-----------|-----------|------------------|\n",
    "| User_1    | Item_A    | 120              |\n",
    "| User_1    | Item_B    | 60               |\n",
    "| User_2    | Item_A    | 45               |\n",
    "| User_2    | Item_C    | 30               |\n",
    "| User_3    | Item_B    | 85               |\n",
    "| User_3    | Item_C    | 90               |"
   ]
  },
  {
   "cell_type": "markdown",
   "metadata": {},
   "source": [
    "### Step 1: Importing the data set"
   ]
  },
  {
   "cell_type": "markdown",
   "metadata": {},
   "source": [
    "#### Feature Selection Details\n",
    "\n",
    "In this step, we  selected specific features from the BigQuery database by running an SQL query. These features are pivotal for our analysis/model, offering insights into user behavior, session details, and product interactions. Below is an overview of the selected features and their significance:\n",
    "\n",
    "1. **`fullVisitorId` | User ID**: A unique identifier for each user visiting the website. \n",
    "\n",
    "2. **`visitNumber` | Session/Visit Number**: Indicates the ordinal number of the user's visit. For example, the first visit is 1, the second visit is 2, and so on.\n",
    "\n",
    "3. **`hits.eCommerceAction.action_type` | Ecommerce Action Type**: Categorizes the type of interaction a user had, such as viewing an item list (1), viewing a specific item (2), etc.\n",
    "\n",
    "4. **`hits.time` | Action Time**: Timestamp indicating when the action occurred.\n",
    "\n",
    "5. **`hits.hitNumber` | Event Number Within a Session**: Sequential number of the event/action within a session, starting from 1.\n",
    "\n",
    "6. **`prod.productSKU` | Product ID**: Unique identifier for each product that was interacted with.\n",
    "\n"
   ]
  },
  {
   "cell_type": "markdown",
   "metadata": {},
   "source": [
    "#### Data Retrieval Process\n",
    "\n",
    "\n",
    "During this phase, we initiated the retrieval of raw data from the BigQuery public dataset. To conduct a preliminary evaluation of our analytical model, we opted to extract a dataset entries from a singular day's worth of data (August 1, 2017).\n",
    "\n",
    "```sql\n",
    "SELECT fullVisitorId, visitNumber, h.eCommerceAction.action_type, prod.productSKU, h.time, h.hitNumber\n",
    "FROM bigquery-public-data.google_analytics_sample.ga_sessions_20170801, UNNEST(hits) as h, UNNEST(h.product) as prod\n",
    "ORDER BY fullVisitorId ASC, visitNumber ASC, h.time ASC\n",
    "```\n",
    "The results from the executed query have been saved to the file located at `data/ga_sessions_20170801.csv`."
   ]
  },
  {
   "cell_type": "markdown",
   "metadata": {},
   "source": [
    "### Step 2: Data Preprocessing"
   ]
  },
  {
   "cell_type": "markdown",
   "metadata": {},
   "source": [
    "#### Initialize Spark and necessary imports"
   ]
  },
  {
   "cell_type": "code",
   "execution_count": 154,
   "metadata": {},
   "outputs": [],
   "source": [
    "from pyspark.sql import SparkSession, functions as F, Window\n",
    "from pyspark.sql.types import StructType, StructField, StringType, IntegerType\n",
    "\n",
    "# Initialize Spark session\n",
    "def init_spark():\n",
    "    return SparkSession \\\n",
    "        .builder \\\n",
    "        .appName(\"GA360RECOMMENDER\") \\\n",
    "        .getOrCreate()\n",
    "\n",
    "spark = init_spark()"
   ]
  },
  {
   "cell_type": "markdown",
   "metadata": {},
   "source": [
    "#### Defining the Sechma and loading the data into Spark DataFrame"
   ]
  },
  {
   "cell_type": "code",
   "execution_count": 155,
   "metadata": {},
   "outputs": [
    {
     "name": "stdout",
     "output_type": "stream",
     "text": [
      "+-------------------+-----------+-----------+--------------+----+---------+\n",
      "|      fullVisitorId|visitNumber|action_type|    productSKU|time|hitNumber|\n",
      "+-------------------+-----------+-----------+--------------+----+---------+\n",
      "|0004915997121163857|          1|          0|GGOEYFKQ020699|   0|        1|\n",
      "|0004915997121163857|          1|          0|GGOEYDHJ056099|   0|        1|\n",
      "|0004915997121163857|          1|          0|GGOEYHPB072210|   0|        1|\n",
      "|0004915997121163857|          1|          0|GGOEYOCR077799|   0|        1|\n",
      "|0004915997121163857|          1|          0|  GGOEGAAX0351|   0|        1|\n",
      "+-------------------+-----------+-----------+--------------+----+---------+\n",
      "only showing top 5 rows\n",
      "\n",
      "Total number of rows in the dataframe:  47723 row\n"
     ]
    }
   ],
   "source": [
    "schema = StructType([\n",
    "    StructField(\"fullVisitorId\", StringType(), True),\n",
    "    StructField(\"visitNumber\", IntegerType(), True),\n",
    "    StructField(\"action_type\", StringType(), True),\n",
    "    StructField(\"productSKU\", StringType(), True),\n",
    "    StructField(\"time\", IntegerType(), True),\n",
    "    StructField(\"hitNumber\", IntegerType(), True)\n",
    "])\n",
    "\n",
    "df = spark.read.csv(\"../data/ga_sessions_20170801.csv\", header=True, schema=schema)\n",
    "\n",
    "df.show(5)\n",
    "print(\"Total number of rows in the dataframe: \", df.count(), \"row\")"
   ]
  },
  {
   "cell_type": "markdown",
   "metadata": {},
   "source": [
    "#### Calculate the Session Duration "
   ]
  },
  {
   "cell_type": "code",
   "execution_count": 223,
   "metadata": {},
   "outputs": [
    {
     "name": "stdout",
     "output_type": "stream",
     "text": [
      "+-------------------+--------------+----------------+\n",
      "|      fullVisitorId|    productSKU|session_duration|\n",
      "+-------------------+--------------+----------------+\n",
      "|0049931492016965831|GGOEGEVA022399|            9821|\n",
      "|0052381813974609729|GGOEAOCB077499|           14292|\n",
      "|0052381813974609729|GGOEGOCB017499|            6931|\n",
      "|0052381813974609729|GGOEGOCC077299|            4745|\n",
      "| 008016723867009901|GGOEGESB015099|            1488|\n",
      "| 008016723867009901|GGOEGBJL013999|            1419|\n",
      "| 008016723867009901|GGOEGDHC074099|            1394|\n",
      "| 008016723867009901|GGOEGESC014099|               0|\n",
      "| 008016723867009901|GGOEGCKQ013199|               1|\n",
      "| 008016723867009901|GGOEACCQ017299|               0|\n",
      "+-------------------+--------------+----------------+\n",
      "only showing top 10 rows\n",
      "\n"
     ]
    }
   ],
   "source": [
    "# Define window specification for calculating pageview durations\n",
    "windowSpec = Window.partitionBy(\"fullVisitorId\", \"visitNumber\").orderBy(\"time\")\n",
    "\n",
    "# Calculate the next hit's time and pageview duration\n",
    "df_with_durations = df.withColumn(\"next_time\", F.lead(\"time\", 1).over(windowSpec)) \\\n",
    "                      .withColumn(\"pageview_duration\", F.when(F.isnull(F.col(\"next_time\") - F.col(\"time\")), 1)\n",
    "                                                          .otherwise(F.col(\"next_time\") - F.col(\"time\")))\n",
    "\n",
    "# Filter for product detail views only \n",
    "prodview_durations = df_with_durations.filter(df_with_durations.action_type == '2') \\\n",
    "                                      .select(\"fullVisitorId\", \"visitNumber\", \"productSKU\", \"pageview_duration\")\n",
    "\n",
    "# Aggregate pageview durations by fullVisitorId and productSKU\n",
    "aggregate_web_stats = prodview_durations.groupBy(\"fullVisitorId\", \"productSKU\") \\\n",
    "                                        .agg(F.sum(\"pageview_duration\").alias(\"session_duration\"))\n",
    "\n",
    "user_item_rating = aggregate_web_stats\n",
    "\n",
    "# Display the aggregated results\n",
    "user_item_rating.orderBy(user_item_rating.fullVisitorId.asc()).show(10)"
   ]
  },
  {
   "cell_type": "markdown",
   "metadata": {},
   "source": [
    "#### Normalization Functions"
   ]
  },
  {
   "cell_type": "markdown",
   "metadata": {},
   "source": [
    "##### Z-Score Normalization\n",
    "Normalizes the data by subtracting the mean rating and dividing by the standard deviation, for users or items."
   ]
  },
  {
   "cell_type": "code",
   "execution_count": 167,
   "metadata": {},
   "outputs": [
    {
     "name": "stdout",
     "output_type": "stream",
     "text": [
      "+-------------------+--------------+----------------+-------------------+\n",
      "|      fullVisitorId|    productSKU|session_duration|normalized_duration|\n",
      "+-------------------+--------------+----------------+-------------------+\n",
      "|0834628261584717467|  GGOEGAAX0325|         1527925| 14.694681589535893|\n",
      "|0834628261584717467|  GGOEGAAX0686|         1470110| 14.131252184050535|\n",
      "|0485797735449723544|GGOEGESB015199|         1172597| 11.231873602122572|\n",
      "| 431781159932899381|GGOEGBRJ037299|          759499| 7.2060747515268755|\n",
      "|7484497031611210287|GGOEYHPB072210|          748694|  7.100775871888905|\n",
      "|5873059317509196502|  GGOEGAAX0104|          594894| 5.6019357341452745|\n",
      "|2863022817351466072|GGOEYFKQ020699|          536689|  5.034705628700749|\n",
      "|7641607978785523241|GGOEGGCX056199|          443459|  4.126143430769419|\n",
      "|2827498353821012092|  GGOEGAAX0680|          427854| 3.9740667054801513|\n",
      "|1933634293342529288|GGOEGDHQ015399|          370320|  3.413375753042297|\n",
      "+-------------------+--------------+----------------+-------------------+\n",
      "only showing top 10 rows\n",
      "\n"
     ]
    }
   ],
   "source": [
    "from pyspark.sql.functions import mean, stddev\n",
    "\n",
    "def z_score_normalization(df):\n",
    "    \"\"\"\n",
    "    Apply Z-score normalization to the rating column of a DataFrame.\n",
    "    \"\"\"\n",
    "    # Calculate the mean and standard deviation of session_duration\n",
    "    mean_val = df.select(mean(df['session_duration'])).collect()[0][0]\n",
    "    stddev_val = df.select(stddev(df['session_duration'])).collect()[0][0]\n",
    "\n",
    "    # Apply Z-score normalization\n",
    "    normalized_df = df.withColumn('normalized_duration', \n",
    "                   (df['session_duration'] - mean_val) / stddev_val)\n",
    "    return normalized_df\n",
    "\n",
    "normalized_df = z_score_normalization(aggregate_web_stats)\n",
    "normalized_df.orderBy(normalized_df.normalized_duration.desc()).show(10)"
   ]
  },
  {
   "cell_type": "markdown",
   "metadata": {},
   "source": [
    "##### Min-Max Normalization: \n",
    "Scale the data within the range [0, 1]"
   ]
  },
  {
   "cell_type": "code",
   "execution_count": 171,
   "metadata": {},
   "outputs": [
    {
     "name": "stdout",
     "output_type": "stream",
     "text": [
      "+-------------------+--------------+----------------+-------------------+\n",
      "|      fullVisitorId|    productSKU|session_duration|normalized_duration|\n",
      "+-------------------+--------------+----------------+-------------------+\n",
      "|0834628261584717467|  GGOEGAAX0325|         1527925|                1.0|\n",
      "|0834628261584717467|  GGOEGAAX0686|         1470110| 0.9621611008393737|\n",
      "|0485797735449723544|GGOEGESB015199|         1172597| 0.7674440826611254|\n",
      "| 431781159932899381|GGOEGBRJ037299|          759499|0.49707871786900537|\n",
      "|7484497031611210287|GGOEYHPB072210|          748694| 0.4900070356856521|\n",
      "|5873059317509196502|  GGOEGAAX0104|          594894| 0.3893476446815125|\n",
      "|2863022817351466072|GGOEYFKQ020699|          536689|0.35125349739025147|\n",
      "|7641607978785523241|GGOEGGCX056199|          443459| 0.2902361045208371|\n",
      "|2827498353821012092|  GGOEGAAX0680|          427854| 0.2800229068835185|\n",
      "|1933634293342529288|GGOEGDHQ015399|          370320|0.24236791727342638|\n",
      "+-------------------+--------------+----------------+-------------------+\n",
      "only showing top 10 rows\n",
      "\n"
     ]
    }
   ],
   "source": [
    "from pyspark.sql.functions import  min, max\n",
    "\n",
    "def min_max_normalization(df):\n",
    "    \"\"\"\n",
    "    Apply Min-Max Normalization on a specified column of a PySpark DataFrame.\n",
    "    \"\"\"\n",
    "    # Calculate the minimum and maximum values of the specified column\n",
    "    column_min_max = df.select(min(df['session_duration']).alias(\"min\"), max(df['session_duration']).alias(\"max\")).collect()[0]\n",
    "    min_value, max_value = column_min_max[\"min\"], column_min_max[\"max\"]\n",
    "    \n",
    "    # Apply Min-Max Normalization\n",
    "    df = df.withColumn('normalized_duration', (df['session_duration'] - min_value) / (max_value - min_value))\n",
    "    \n",
    "    return df\n",
    "\n",
    "min_max_normalized_df = min_max_normalization(aggregate_web_stats)\n",
    "min_max_normalized_df.orderBy(min_max_normalized_df.normalized_duration.desc()).show(10)"
   ]
  },
  {
   "cell_type": "markdown",
   "metadata": {},
   "source": [
    "##### Logarithmic Transformation\n",
    "Apply the logarithm function to each data point, to reduce the impact of outliers and diminish the skewness of the original distribution, making the data more symmetrical."
   ]
  },
  {
   "cell_type": "code",
   "execution_count": 172,
   "metadata": {},
   "outputs": [
    {
     "name": "stderr",
     "output_type": "stream",
     "text": [
      "[Stage 8758:>                                                       (0 + 1) / 1]\r"
     ]
    },
    {
     "name": "stdout",
     "output_type": "stream",
     "text": [
      "+-------------------+--------------+----------------+-------------------+\n",
      "|      fullVisitorId|    productSKU|session_duration|normalized_duration|\n",
      "+-------------------+--------------+----------------+-------------------+\n",
      "|0834628261584717467|  GGOEGAAX0325|         1527925| 14.239421818216494|\n",
      "|0834628261584717467|  GGOEGAAX0686|         1470110|  14.20084846610825|\n",
      "|0485797735449723544|GGOEGESB015199|         1172597| 13.974732357899336|\n",
      "| 431781159932899381|GGOEGBRJ037299|          759499| 13.540415601017965|\n",
      "|7484497031611210287|GGOEYHPB072210|          748694| 13.526086969954191|\n",
      "|5873059317509196502|  GGOEGAAX0104|          594894| 13.296140198366766|\n",
      "|2863022817351466072|GGOEYFKQ020699|          536689| 13.193175925608253|\n",
      "|7641607978785523241|GGOEGGCX056199|          443459| 13.002362885006988|\n",
      "|2827498353821012092|  GGOEGAAX0680|          427854| 12.966539632116586|\n",
      "|1933634293342529288|GGOEGDHQ015399|          370320| 12.822125476068756|\n",
      "+-------------------+--------------+----------------+-------------------+\n",
      "only showing top 10 rows\n",
      "\n"
     ]
    },
    {
     "name": "stderr",
     "output_type": "stream",
     "text": [
      "                                                                                \r"
     ]
    }
   ],
   "source": [
    "from pyspark.sql.functions import log\n",
    "\n",
    "def logarithmic_transformation(df):\n",
    "    \"\"\"\n",
    "    Apply Logarithmic Transformation on a specified column of a PySpark DataFrame.\n",
    "    \"\"\"\n",
    "    # Adding 1 to avoid log(0) which is undefined\n",
    "    df = df.withColumn('normalized_duration', log(df['session_duration'] + 1))\n",
    "    \n",
    "    return df\n",
    "\n",
    "logarithmic_df = logarithmic_transformation(aggregate_web_stats)\n",
    "logarithmic_df.orderBy(logarithmic_df.normalized_duration.desc()).show(10)"
   ]
  },
  {
   "cell_type": "markdown",
   "metadata": {},
   "source": [
    "### Building the Utility Matrxix:"
   ]
  },
  {
   "cell_type": "code",
   "execution_count": 177,
   "metadata": {},
   "outputs": [
    {
     "name": "stdout",
     "output_type": "stream",
     "text": [
      "+-------------------+--------------+--------------+--------------+--------------+--------------+--------------+--------------+--------------------+--------------+--------------+--------------+------------+------------+------------+------------+------------+------------+------------+-------------------+------------+------------+------------+------------+------------+------------+------------+------------+------------+------------+------------+------------+------------+------------+------------+------------+------------+------------+------------+------------+------------+------------+------------+------------+------------+------------+------------+------------+------------+------------+------------+------------+------------+------------+------------+------------+------------+------------+------------+------------+------------+------------+------------+------------+------------+------------+------------+--------------------+------------+------------+------------+------------+------------+------------+------------+------------+------------+------------+------------+------------+------------+------------+------------+------------+------------+-------------------+------------+------------+------------+------------+------------+------------+------------+--------------+--------------+--------------+--------------+--------------+--------------+--------------+--------------+--------------+--------------------+--------------+--------------+--------------+--------------+--------------+--------------+--------------+--------------+--------------+--------------+--------------+--------------+--------------+--------------+--------------+--------------+--------------+--------------+--------------+--------------+--------------+--------------+--------------+--------------+--------------+--------------+--------------+--------------+--------------+--------------+--------------+--------------+--------------+--------------+--------------+--------------+--------------+--------------+--------------+--------------+--------------+--------------+--------------+--------------+--------------+--------------+-------------------+--------------+-------------------+--------------+--------------+--------------+--------------+--------------+--------------+--------------+--------------+-------------------+--------------+--------------------+--------------+--------------+--------------+------------+--------------+--------------+--------------+-------------------+-------------------+--------------+--------------+\n",
      "|      fullVisitorId|GGOEA0CH077599|GGOEACCQ017299|GGOEADHH055999|GGOEADHH073999|GGOEADWQ015699|GGOEAFKQ020499|GGOEAFKQ020599|      GGOEAHPA004110|GGOEAHPJ074410|GGOEAKDH019899|GGOEAOCB077499|GGOEAXXX0808|GGOEAXXX0810|GGOEAXXX0812|GGOEGAAX0037|GGOEGAAX0074|GGOEGAAX0081|GGOEGAAX0098|       GGOEGAAX0104|GGOEGAAX0105|GGOEGAAX0106|GGOEGAAX0107|GGOEGAAX0168|GGOEGAAX0278|GGOEGAAX0280|GGOEGAAX0282|GGOEGAAX0290|GGOEGAAX0296|GGOEGAAX0299|GGOEGAAX0304|GGOEGAAX0306|GGOEGAAX0308|GGOEGAAX0309|GGOEGAAX0313|GGOEGAAX0318|GGOEGAAX0320|GGOEGAAX0323|GGOEGAAX0325|GGOEGAAX0326|GGOEGAAX0329|GGOEGAAX0330|GGOEGAAX0334|GGOEGAAX0338|GGOEGAAX0341|GGOEGAAX0342|GGOEGAAX0351|GGOEGAAX0352|GGOEGAAX0353|GGOEGAAX0356|GGOEGAAX0357|GGOEGAAX0358|GGOEGAAX0361|GGOEGAAX0364|GGOEGAAX0365|GGOEGAAX0366|GGOEGAAX0567|GGOEGAAX0568|GGOEGAAX0569|GGOEGAAX0570|GGOEGAAX0578|GGOEGAAX0579|GGOEGAAX0580|GGOEGAAX0588|GGOEGAAX0592|GGOEGAAX0593|GGOEGAAX0595|        GGOEGAAX0596|GGOEGAAX0602|GGOEGAAX0604|GGOEGAAX0606|GGOEGAAX0607|GGOEGAAX0610|GGOEGAAX0617|GGOEGAAX0618|GGOEGAAX0619|GGOEGAAX0620|GGOEGAAX0622|GGOEGAAX0625|GGOEGAAX0626|GGOEGAAX0651|GGOEGAAX0655|GGOEGAAX0661|GGOEGAAX0671|GGOEGAAX0680|       GGOEGAAX0682|GGOEGAAX0686|GGOEGAAX0690|GGOEGAAX0731|GGOEGAAX0733|GGOEGAAX0761|GGOEGAAX0781|GGOEGAAX0795|GGOEGBCR024399|GGOEGBFC018799|GGOEGBJC014399|GGOEGBJC019999|GGOEGBJL013999|GGOEGBMC056599|GGOEGBMJ013399|GGOEGBPB021199|GGOEGBPB082099|      GGOEGBRA037499|GGOEGBRB013899|GGOEGBRJ037299|GGOEGBRJ037399|GGOEGCBB074199|GGOEGCBB074399|GGOEGCBC074299|GGOEGCBQ016499|GGOEGCKQ013199|GGOEGCMB020932|GGOEGCNB021099|GGOEGDHC015299|GGOEGDHC074099|GGOEGDHQ015399|GGOEGDHR082199|GGOEGDWR015799|GGOEGEHQ024099|GGOEGEHQ071199|GGOEGEHQ072499|GGOEGEHQ072599|GGOEGESB015099|GGOEGESB015199|GGOEGESC014099|GGOEGESQ016799|GGOEGETB023799|GGOEGEVA022399|GGOEGEVB070599|GGOEGFAQ016699|GGOEGFKA022299|GGOEGFKQ020399|GGOEGFKQ020799|GGOEGFQB013799|GGOEGFSR022099|GGOEGFYQ016599|GGOEGGCX056199|GGOEGGCX056299|GGOEGGOA017399|GGOEGHPB003410|GGOEGHPB071610|GGOEGHPJ080310|GGOEGHPL003214|GGOEGKAA019299|GGOEGKWQ060910|GGOEGKWR060810|GGOEGOAB021499|GGOEGOAB022499|GGOEGOAQ012899|     GGOEGOAQ018099|GGOEGOAQ020099|     GGOEGOAR013099|GGOEGOBC078699|GGOEGOBG023599|GGOEGOCB017499|GGOEGOCC077299|GGOEGOCC077999|GGOEGOCD078399|GGOEGOCL077699|GGOEGOCR078499|     GGOEGODR017799|GGOEGOFH020299|      GGOEGOLC013299|GGOEGOLC014299|GGOEGOXQ016399|GGOEGPJC203399|GGOEGXXX0806|GGOEWAEA083899|GGOEWCKQ085457|GGOEWEBB082699|     GGOEYDHJ056099|     GGOEYFKQ020699|GGOEYHPB072210|GGOEYOCR077799|\n",
      "+-------------------+--------------+--------------+--------------+--------------+--------------+--------------+--------------+--------------------+--------------+--------------+--------------+------------+------------+------------+------------+------------+------------+------------+-------------------+------------+------------+------------+------------+------------+------------+------------+------------+------------+------------+------------+------------+------------+------------+------------+------------+------------+------------+------------+------------+------------+------------+------------+------------+------------+------------+------------+------------+------------+------------+------------+------------+------------+------------+------------+------------+------------+------------+------------+------------+------------+------------+------------+------------+------------+------------+------------+--------------------+------------+------------+------------+------------+------------+------------+------------+------------+------------+------------+------------+------------+------------+------------+------------+------------+------------+-------------------+------------+------------+------------+------------+------------+------------+------------+--------------+--------------+--------------+--------------+--------------+--------------+--------------+--------------+--------------+--------------------+--------------+--------------+--------------+--------------+--------------+--------------+--------------+--------------+--------------+--------------+--------------+--------------+--------------+--------------+--------------+--------------+--------------+--------------+--------------+--------------+--------------+--------------+--------------+--------------+--------------+--------------+--------------+--------------+--------------+--------------+--------------+--------------+--------------+--------------+--------------+--------------+--------------+--------------+--------------+--------------+--------------+--------------+--------------+--------------+--------------+--------------+-------------------+--------------+-------------------+--------------+--------------+--------------+--------------+--------------+--------------+--------------+--------------+-------------------+--------------+--------------------+--------------+--------------+--------------+------------+--------------+--------------+--------------+-------------------+-------------------+--------------+--------------+\n",
      "|1311003026247678016|          NULL|          NULL|          NULL|          NULL|          NULL|          NULL|          NULL|                NULL|          NULL|          NULL|          NULL|        NULL|        NULL|        NULL|        NULL|        NULL|        NULL|        NULL|               NULL|        NULL|        NULL|        NULL|        NULL|        NULL|        NULL|        NULL|        NULL|        NULL|        NULL|        NULL|        NULL|        NULL|        NULL|        NULL|        NULL|        NULL|        NULL|        NULL|        NULL|        NULL|        NULL|        NULL|        NULL|        NULL|        NULL|        NULL|        NULL|        NULL|        NULL|        NULL|        NULL|        NULL|        NULL|        NULL|        NULL|        NULL|        NULL|        NULL|        NULL|        NULL|        NULL|        NULL|        NULL|        NULL|        NULL|        NULL|                NULL|        NULL|        NULL|        NULL|        NULL|        NULL|        NULL|        NULL|        NULL|        NULL|        NULL|        NULL|        NULL|        NULL|        NULL|        NULL|        NULL|        NULL|               NULL|        NULL|        NULL|        NULL|        NULL|        NULL|        NULL|        NULL|          NULL|          NULL|          NULL|          NULL|          NULL|          NULL|          NULL|          NULL|          NULL|                NULL|          NULL|          NULL|          NULL|          NULL|          NULL|          NULL|          NULL|          NULL|          NULL|          NULL|          NULL|          NULL|          NULL|          NULL|          NULL|          NULL|          NULL|          NULL|          NULL|          NULL|          NULL|          NULL|          NULL|          NULL|          NULL|          NULL|          NULL|          NULL|          NULL|          NULL|          NULL|          NULL|          NULL|          NULL|          NULL|          NULL|          NULL|          NULL|          NULL|          NULL|          NULL|          NULL|          NULL|          NULL|          NULL|          NULL|               NULL|          NULL|               NULL|          NULL|          NULL|          NULL|          NULL|          NULL|          NULL|          NULL|          NULL|               NULL|          NULL|-0.12517336278808078|          NULL|          NULL|          NULL|        NULL|          NULL|          NULL|          NULL|               NULL|               NULL|          NULL|          NULL|\n",
      "|1059770176518504832|          NULL|          NULL|          NULL|          NULL|          NULL|          NULL|          NULL|-0.19546682126366466|          NULL|          NULL|          NULL|        NULL|        NULL|        NULL|        NULL|        NULL|        NULL|        NULL|-0.1955252935707288|        NULL|        NULL|        NULL|        NULL|        NULL|        NULL|        NULL|        NULL|        NULL|        NULL|        NULL|        NULL|        NULL|        NULL|        NULL|        NULL|        NULL|        NULL|        NULL|        NULL|        NULL|        NULL|        NULL|        NULL|        NULL|        NULL|        NULL|        NULL|        NULL|        NULL|        NULL|        NULL|        NULL|        NULL|        NULL|        NULL|        NULL|        NULL|        NULL|        NULL|        NULL|        NULL|        NULL|        NULL|        NULL|        NULL|        NULL|-0.17499176840671168|        NULL|        NULL|        NULL|        NULL|        NULL|        NULL|        NULL|        NULL|        NULL|        NULL|        NULL|        NULL|        NULL|        NULL|        NULL|        NULL|        NULL|               NULL|        NULL|        NULL|        NULL|        NULL|        NULL|        NULL|        NULL|          NULL|          NULL|          NULL|          NULL|          NULL|          NULL|          NULL|          NULL|          NULL|-0.16902759308617138|          NULL|          NULL|          NULL|          NULL|          NULL|          NULL|          NULL|          NULL|          NULL|          NULL|          NULL|          NULL|          NULL|          NULL|          NULL|          NULL|          NULL|          NULL|          NULL|          NULL|          NULL|          NULL|          NULL|          NULL|          NULL|          NULL|          NULL|          NULL|          NULL|          NULL|          NULL|          NULL|          NULL|          NULL|          NULL|          NULL|          NULL|          NULL|          NULL|          NULL|          NULL|          NULL|          NULL|          NULL|          NULL|          NULL|               NULL|          NULL|               NULL|          NULL|          NULL|          NULL|          NULL|          NULL|          NULL|          NULL|          NULL|               NULL|          NULL|                NULL|          NULL|          NULL|          NULL|        NULL|          NULL|          NULL|          NULL|               NULL|               NULL|          NULL|          NULL|\n",
      "|2608714709593599798|          NULL|          NULL|          NULL|          NULL|          NULL|          NULL|          NULL|                NULL|          NULL|          NULL|          NULL|        NULL|        NULL|        NULL|        NULL|        NULL|        NULL|        NULL|               NULL|        NULL|        NULL|        NULL|        NULL|        NULL|        NULL|        NULL|        NULL|        NULL|        NULL|        NULL|        NULL|        NULL|        NULL|        NULL|        NULL|        NULL|        NULL|        NULL|        NULL|        NULL|        NULL|        NULL|        NULL|        NULL|        NULL|        NULL|        NULL|        NULL|        NULL|        NULL|        NULL|        NULL|        NULL|        NULL|        NULL|        NULL|        NULL|        NULL|        NULL|        NULL|        NULL|        NULL|        NULL|        NULL|        NULL|        NULL|                NULL|        NULL|        NULL|        NULL|        NULL|        NULL|        NULL|        NULL|        NULL|        NULL|        NULL|        NULL|        NULL|        NULL|        NULL|        NULL|        NULL|        NULL|               NULL|        NULL|        NULL|        NULL|        NULL|        NULL|        NULL|        NULL|          NULL|          NULL|          NULL|          NULL|          NULL|          NULL|          NULL|          NULL|          NULL|                NULL|          NULL|          NULL|          NULL|          NULL|          NULL|          NULL|          NULL|          NULL|          NULL|          NULL|          NULL|          NULL|          NULL|          NULL|          NULL|          NULL|          NULL|          NULL|          NULL|          NULL|          NULL|          NULL|          NULL|          NULL|          NULL|          NULL|          NULL|          NULL|          NULL|          NULL|          NULL|          NULL|          NULL|          NULL|          NULL|          NULL|          NULL|          NULL|          NULL|          NULL|          NULL|          NULL|          NULL|          NULL|          NULL|          NULL|               NULL|          NULL|               NULL|          NULL|          NULL|          NULL|          NULL|          NULL|          NULL|          NULL|          NULL|               NULL|          NULL|                NULL|          NULL|          NULL|          NULL|        NULL|          NULL|          NULL|          NULL|-0.1955252935707288|-0.1818525191022352|          NULL|          NULL|\n",
      "|1633146081774573328|          NULL|          NULL|          NULL|          NULL|          NULL|          NULL|          NULL|                NULL|          NULL|          NULL|          NULL|        NULL|        NULL|        NULL|        NULL|        NULL|        NULL|        NULL|               NULL|        NULL|        NULL|        NULL|        NULL|        NULL|        NULL|        NULL|        NULL|        NULL|        NULL|        NULL|        NULL|        NULL|        NULL|        NULL|        NULL|        NULL|        NULL|        NULL|        NULL|        NULL|        NULL|        NULL|        NULL|        NULL|        NULL|        NULL|        NULL|        NULL|        NULL|        NULL|        NULL|        NULL|        NULL|        NULL|        NULL|        NULL|        NULL|        NULL|        NULL|        NULL|        NULL|        NULL|        NULL|        NULL|        NULL|        NULL|                NULL|        NULL|        NULL|        NULL|        NULL|        NULL|        NULL|        NULL|        NULL|        NULL|        NULL|        NULL|        NULL|        NULL|        NULL|        NULL|        NULL|        NULL|0.10243983784352019|        NULL|        NULL|        NULL|        NULL|        NULL|        NULL|        NULL|          NULL|          NULL|          NULL|          NULL|          NULL|          NULL|          NULL|          NULL|          NULL|-0.12373104588049912|          NULL|          NULL|          NULL|          NULL|          NULL|          NULL|          NULL|          NULL|          NULL|          NULL|          NULL|          NULL|          NULL|          NULL|          NULL|          NULL|          NULL|          NULL|          NULL|          NULL|          NULL|          NULL|          NULL|          NULL|          NULL|          NULL|          NULL|          NULL|          NULL|          NULL|          NULL|          NULL|          NULL|          NULL|          NULL|          NULL|          NULL|          NULL|          NULL|          NULL|          NULL|          NULL|          NULL|          NULL|          NULL|          NULL|-0.1955252935707288|          NULL|-0.1955252935707288|          NULL|          NULL|          NULL|          NULL|          NULL|          NULL|          NULL|          NULL|               NULL|          NULL|                NULL|          NULL|          NULL|          NULL|        NULL|          NULL|          NULL|          NULL|               NULL|               NULL|          NULL|          NULL|\n",
      "| 051121380870457542|          NULL|          NULL|          NULL|          NULL|          NULL|          NULL|          NULL|                NULL|          NULL|          NULL|          NULL|        NULL|        NULL|        NULL|        NULL|        NULL|        NULL|        NULL|               NULL|        NULL|        NULL|        NULL|        NULL|        NULL|        NULL|        NULL|        NULL|        NULL|        NULL|        NULL|        NULL|        NULL|        NULL|        NULL|        NULL|        NULL|        NULL|        NULL|        NULL|        NULL|        NULL|        NULL|        NULL|        NULL|        NULL|        NULL|        NULL|        NULL|        NULL|        NULL|        NULL|        NULL|        NULL|        NULL|        NULL|        NULL|        NULL|        NULL|        NULL|        NULL|        NULL|        NULL|        NULL|        NULL|        NULL|        NULL|                NULL|        NULL|        NULL|        NULL|        NULL|        NULL|        NULL|        NULL|        NULL|        NULL|        NULL|        NULL|        NULL|        NULL|        NULL|        NULL|        NULL|        NULL|               NULL|        NULL|        NULL|        NULL|        NULL|        NULL|        NULL|        NULL|          NULL|          NULL|          NULL|          NULL|          NULL|          NULL|          NULL|          NULL|          NULL|                NULL|          NULL|          NULL|          NULL|          NULL|          NULL|          NULL|          NULL|          NULL|          NULL|          NULL|          NULL|          NULL|          NULL|          NULL|          NULL|          NULL|          NULL|          NULL|          NULL|          NULL|          NULL|          NULL|          NULL|          NULL|          NULL|          NULL|          NULL|          NULL|          NULL|          NULL|          NULL|          NULL|          NULL|          NULL|          NULL|          NULL|          NULL|          NULL|          NULL|          NULL|          NULL|          NULL|          NULL|          NULL|          NULL|          NULL|               NULL|          NULL|               NULL|          NULL|          NULL|          NULL|          NULL|          NULL|          NULL|          NULL|          NULL|-0.1720291715154629|          NULL|                NULL|          NULL|          NULL|          NULL|        NULL|          NULL|          NULL|          NULL|               NULL|               NULL|          NULL|          NULL|\n",
      "+-------------------+--------------+--------------+--------------+--------------+--------------+--------------+--------------+--------------------+--------------+--------------+--------------+------------+------------+------------+------------+------------+------------+------------+-------------------+------------+------------+------------+------------+------------+------------+------------+------------+------------+------------+------------+------------+------------+------------+------------+------------+------------+------------+------------+------------+------------+------------+------------+------------+------------+------------+------------+------------+------------+------------+------------+------------+------------+------------+------------+------------+------------+------------+------------+------------+------------+------------+------------+------------+------------+------------+------------+--------------------+------------+------------+------------+------------+------------+------------+------------+------------+------------+------------+------------+------------+------------+------------+------------+------------+------------+-------------------+------------+------------+------------+------------+------------+------------+------------+--------------+--------------+--------------+--------------+--------------+--------------+--------------+--------------+--------------+--------------------+--------------+--------------+--------------+--------------+--------------+--------------+--------------+--------------+--------------+--------------+--------------+--------------+--------------+--------------+--------------+--------------+--------------+--------------+--------------+--------------+--------------+--------------+--------------+--------------+--------------+--------------+--------------+--------------+--------------+--------------+--------------+--------------+--------------+--------------+--------------+--------------+--------------+--------------+--------------+--------------+--------------+--------------+--------------+--------------+--------------+--------------+-------------------+--------------+-------------------+--------------+--------------+--------------+--------------+--------------+--------------+--------------+--------------+-------------------+--------------+--------------------+--------------+--------------+--------------+------------+--------------+--------------+--------------+-------------------+-------------------+--------------+--------------+\n",
      "only showing top 5 rows\n",
      "\n"
     ]
    },
    {
     "name": "stderr",
     "output_type": "stream",
     "text": [
      "[Stage 8939:>                                                       (0 + 1) / 1]\r"
     ]
    },
    {
     "name": "stdout",
     "output_type": "stream",
     "text": [
      "+--------------+-------------------+-------------------+------------------+-------------------+------------------+-------------------+-------------------+-------------------+-------------------+-------------------+-------------------+-------------------+-------------------+-------------------+------------------+-------------------+-------------------+-------------------+-------------------+-------------------+-------------------+-------------------+-------------------+-------------------+-------------------+------------------+-------------------+-------------------+------------------+-------------------+-------------------+-------------------+-------------------+-------------------+-------------------+-------------------+-------------------+-------------------+-------------------+------------------+-------------------+-------------------+-------------------+-------------------+-------------------+-------------------+-------------------+-------------------+------------------+-------------------+------------------+------------------+--------------------+-------------------+------------------+-------------------+-------------------+-------------------+-------------------+-----------------+-------------------+-------------------+-------------------+-------------------+-------------------+-------------------+-------------------+------------------+-------------------+-------------------+-------------------+-------------------+-------------------+------------------+-------------------+------------------+-------------------+-------------------+-------------------+-------------------+-------------------+-------------------+-------------------+-------------------+-------------------+-------------------+-------------------+-------------------+-------------------+-------------------+-------------------+-------------------+--------------------+-------------------+-------------------+-------------------+-------------------+-------------------+-------------------+-------------------+-------------------+-------------------+-------------------+-------------------+-------------------+-------------------+-------------------+-------------------+-------------------+-------------------+-------------------+-------------------+-------------------+-------------------+-------------------+-------------------+-------------------+-------------------+-------------------+-------------------+-------------------+-------------------+------------------+-------------------+-------------------+-------------------+-------------------+-------------------+-------------------+-------------------+-------------------+-------------------+-------------------+-------------------+-------------------+-------------------+-------------------+-------------------+-------------------+-------------------+--------------------+-------------------+-------------------+-------------------+-------------------+-------------------+-------------------+------------------+-------------------+-------------------+-------------------+-----------------+------------------+-------------------+-------------------+------------------+-------------------+-----------------+-------------------+-------------------+-------------------+-------------------+-------------------+-------------------+-------------------+-------------------+-------------------+-------------------+-------------------+-------------------+-------------------+-------------------+-------------------+------------------+-------------------+-------------------+-------------------+-------------------+--------------------+-------------------+------------------+-------------------+-------------------+-------------------+-------------------+-------------------+-------------------+------------------+-------------------+-------------------+-------------------+-------------------+-------------------+-------------------+------------------+-------------------+-------------------+-------------------+-------------------+-------------------+-------------------+-------------------+-------------------+-------------------+-------------------+-------------------+-------------------+-------------------+-------------------+-------------------+-------------------+-------------------+-------------------+-------------------+--------------------+-------------------+------------------+-------------------+-------------------+-------------------+-------------------+-------------------+-------------------+-------------------+-------------------+-------------------+-------------------+-------------------+-------------------+-------------------+-------------------+-------------------+-------------------+-------------------+-----------------+------------------+-------------------+-------------------+-------------------+-------------------+-------------------+-------------------+-------------------+-------------------+-------------------+-------------------+-------------------+-------------------+--------------------+------------------+-------------------+-------------------+-------------------+-------------------+-------------------+-------------------+-------------------+------------------+-------------------+------------------+------------------+-------------------+------------------+-------------------+-------------------+-------------------+------------------+--------------------+-------------------+-------------------+-------------------+-------------------+-------------------+-------------------+-------------------+-------------------+-------------------+-------------------+-------------------+-------------------+-------------------+-------------------+-------------------+-------------------+------------------+--------------------+-------------------+-------------------+------------------+-------------------+------------------+-------------------+------------------+-------------------+-------------------+-------------------+-------------------+-------------------+-------------------+-------------------+-------------------+-------------------+-------------------+-------------------+-------------------+-------------------+-------------------+-------------------+-----------------+-------------------+-------------------+-------------------+-------------------+-------------------+-------------------+-------------------+-------------------+-------------------+-------------------+------------------+--------------------+-------------------+------------------+-------------------+-------------------+-------------------+-------------------+-------------------+-------------------+-------------------+-------------------+-------------------+-----------------+-------------------+-------------------+-------------------+-------------------+-------------------+-------------------+-------------------+-------------------+-------------------+-------------------+-------------------+-------------------+-------------------+-------------------+-------------------+-------------------+-------------------+-------------------+-------------------+-------------------+-------------------+------------------+-------------------+-------------------+-------------------+-------------------+-------------------+------------------+-------------------+------------------+-------------------+------------------+-------------------+--------------------+-------------------+-------------------+-------------------+-------------------+-------------------+-------------------+-------------------+-------------------+-------------------+-------------------+-------------------+-------------------+-------------------+-------------------+-----------------+-------------------+-------------------+------------------+-------------------+-------------------+-------------------+-------------------+-------------------+-------------------+-------------------+-------------------+-------------------+\n",
      "|    productSKU|0049931492016965831|0052381813974609729|008016723867009901|0082784177006211656|008974926326637231|0091712978079395246|0126612099954375841|0167247604162700002|0184583714566893994|0188308435688462855|0192314861414750236|0203746675575323546|0232377434237234751|0241048761582607706|024507252193437459|0255282465269917452|0261035563475309159|0270393945425133079|0284438731288817902|0330845037859170481|0379271879231850881|0462973614885897477|0485797735449723544|0496578757391920977|0509377181616367629|051121380870457542|0512480056932695240|0513443874219533136|051569945671479788|0551028300396393478|0586698229787787437|0598517298356059273|0620323593193754739|0650734198077784452|0653855261936813301|0694658797180418631|0716845898585666271|0723764175159758531|0750846065342433129|076085547156904396|0815047945706399620|0826150033557882055|0831560334057475229|0834628261584717467|0843143557737586340|0909717625274232624|0940186567836603506|0946279366290435145|099282514685273715|1005829299685984449|102703605492733588|103905010654987355| 1059770176518504832|1094931637794753476|110153724611725846|1113086722612802174|1124739547028739470|1144453422620721054|1148645885957423322|11577526465501235|1181536979112804688|1197204234107154844|1215126832177216624|1223589533016589079|1223865090611201115|1255368394012652243|1258915143892750458|126459781793436795|1281234459613429134|1295831428300004252|1311003026247678016|1350128776428351822|1369634446381193537|138058039294367332|1386018753537268331|140515510840599351|1445829272389489293|1485560096715159088|1487642479039977302|1513574659863671308|1580431283728289185|1589021726696497303|1625348761598975970|1627674454679945564|1628879492829362179|1633146081774573328|1687795423322054080|1743714919834975806|1765857025931877948|1792126295682358590|1799598136919764397|1825841980801408928| 1850206187599338645|1868979439923677894|1894130606995361644|1897693758416082368|1904044281872619820|1933634293342529288|1969572238026427771|1996186587769697436|2008785002910996057|2020765393756185156|2054328967059540069|2169837842795965197|2183769803946700458|2200502804815616939|2211136004038546286|2230459363222130999|2238427794408940307|2284555599203977570|2356328520822545622|2379859623266786468|2380151902002144519|2384575288962758158|2419083783587438310|2510170651126670568|2516702271461747537|2570612937804014178|2578084515369430211|2608714709593599798|2662180751707142455|2666111902144758507|267496141615033562|2682723022140584110|2690284560375650313|2699100691075242575|2725696087969671053|2734804504238901538|2827498353821012092|2838389775426883646|2863022817351466072|2865117450599304911|2880164379954827168|2886144098855378647|2976099200710770058|2981325201816358942|2997546588767717972|3077728344368815014|3082283603465989940|3098698308947338506| 3101662058536674321|3185267375068033750|3188213086470041425|3223204375135993191|3225678380873744420|3239591421883808376|3289637780548369455|335855435126300366|3424918216070852195|3466329311470244552|3487777878571499424|34988253365419131|351681171177883933|3528985319474154621|3544203224003923047|355470769779418447|3602581120186705822|36445151010876646|3644674906177313121|3653223981913568754|3694234028523165868|3723888941430883184|3730118929329807081|3739471411093683045|3754779580225027430|3891707253957252733|3928148027675000890|3944033084735691438|3944421154392364485|3959390594599570808|3963931733144286855|3990499189535030968|4107476716931948379|410776283289767415|4127969764710194171|4193206519109888601|4207163565650556039|4239065618754630247|  424164277566734178|4245538638840698803|431781159932899381|4349008350446169158|4350149129796827013|4358669050443767105|4361578465679668536|4386919064035592715|4514652345155303748|454415741312523119| 454845221896711463|4604819391740364956|4638457631555733175|4642253043389868036|4645782780585783387|4659112155231903369|478717655362754556|4794087068727883755|4799379227714170002|4841594360292833266|4871061239735971842|4891367157966215686|4908800356431619540|4959929165076044230|5012979848533101212|5014540371440158686|5016900699181272612|5036504003993248220|5074660303190613667|5108127937752582001|5187966439034093084|5191714303283334364|5196510095914060300|5208937953046059083|5247088189467403090|5299840209528355476| 5321699176786856383|5334519922113386772|534050309417390972|5371617068925994598|5374636950619010807|5396316380545596534|5404482496812265594|5438506007142109144|5449771938159563164|5493590651204923543|5517518226296980531|5552602223219141230|5569090975719749657|5596095564243535655|5642616598374575878|5644663710139527686|5645525901423795365|5650628204685893274|5665035179702438805|5705874741137472356|57196719909669060|573154037338008171|5768779985718104713|5772921781547143127|5835011534221003810|5837861602768827939|5857508451628108813|5873059317509196502|5883164011639311823|5918204463043019202|5918721989053447180|5926242413751959519|5994882421687804417|6090307959373790386| 6122352189241442329|616813475440297008|6229313771651311196|6235333906233118646|6245888094161327613|6281969399295268989|6317122696265127101|6356772384621900900|6362417049769170223|643249846894129525|6454152396954180970|649889300215934582|654736404761929369|6595981885506800184|659997883658232689|6631067223324142886|6649661547402538462|6652255958623882302|665925237862575413| 6687958275730704367|6695998350292150416|6701073889215352508|6704073824208738094|6720163071515835609|6756011017275548046|6779703869558170031|6800773016200108867|6807929399699118662|6819686597729874393|6847677700533767581|6884489731245835935|6911303723241317741|6935485519887862639|6961461396201166096|6967791130946939797|6970840496248643321|698297406423033664| 7012549213059932928|7083651462602256215|7130862809181577995|718640226837019023|7197257625515261031|720378073621403524|7281459057441043181|730367780967717148|7311242886083854158|7348629249376748176|7349095852368868081|7356594891179506186|7361035572167157097|7381501839846779174|7416628062417316237|7420300501523012460|7444499703471460562|7461007246247623723|7478014296138553952|7484497031611210287|7550413639587874054|7556555497376038449|7596302818728416168|76337984001301563|7634362284405299195|7641607978785523241|7716715889119737343|7720463169914643064|7732103446351877731|7767487111812238597|7779808671220138430|7804878276242829473|7863551258591830793|7966897920275645417|799550552085983639| 8016003971239765913|8057100491037963376|811215767847921598|8151706737543171350|8204485709901113804|8208963585508489539|8220868147393470497|8227701038227474422|8252993918601501665|8281865642684703587|8295197301478463188|8336976389238650812|84084976506155235|8410706711019737796|8442617694098781827|8522602120605606432|8524153343957920345|8541623616216182707|8555003181225615424|8699270326076021095|8719058463049309640|8726813153683135107|8735816909957342888|8765602621942878224|8795601824800140692|8807566194592989592|8832913499703586038|8838723503257538619|8841197329105123740|8867932982815581493|8882654778626829762|8885422469790736188|8899652920156664918|8907786034323049031|891256389600004515|8922684196337270088|8930667883681133792|8996390266519917614|9008243837280281377|9012644024512398613|903671600075470143|9064503463693769960|907919984415931451|9082216468378814100|910410897272138682|9118080275011609685| 9130977134964042839|9177420311342678282|9178778076506607736|9249130983722228273|9283619216742521189|9308310352918219134|9329105952170590036|9335786140265261599|9359225890182048096|9386651167038033508|9412146594226097241|9417857471295131045|9446534099865088123|9448642576630229500|9483363633817181224|95260387049596061|9591202457292182670|9644838183145418265|973510660431678522|9745444510361208172|9762462603607554817|9769058468255015745|9800325346437826374|9810242816023554106|9846359776693659031|9880592496599091974|9936653130323014894|9945591060914032258|\n",
      "+--------------+-------------------+-------------------+------------------+-------------------+------------------+-------------------+-------------------+-------------------+-------------------+-------------------+-------------------+-------------------+-------------------+-------------------+------------------+-------------------+-------------------+-------------------+-------------------+-------------------+-------------------+-------------------+-------------------+-------------------+-------------------+------------------+-------------------+-------------------+------------------+-------------------+-------------------+-------------------+-------------------+-------------------+-------------------+-------------------+-------------------+-------------------+-------------------+------------------+-------------------+-------------------+-------------------+-------------------+-------------------+-------------------+-------------------+-------------------+------------------+-------------------+------------------+------------------+--------------------+-------------------+------------------+-------------------+-------------------+-------------------+-------------------+-----------------+-------------------+-------------------+-------------------+-------------------+-------------------+-------------------+-------------------+------------------+-------------------+-------------------+-------------------+-------------------+-------------------+------------------+-------------------+------------------+-------------------+-------------------+-------------------+-------------------+-------------------+-------------------+-------------------+-------------------+-------------------+-------------------+-------------------+-------------------+-------------------+-------------------+-------------------+-------------------+--------------------+-------------------+-------------------+-------------------+-------------------+-------------------+-------------------+-------------------+-------------------+-------------------+-------------------+-------------------+-------------------+-------------------+-------------------+-------------------+-------------------+-------------------+-------------------+-------------------+-------------------+-------------------+-------------------+-------------------+-------------------+-------------------+-------------------+-------------------+-------------------+-------------------+------------------+-------------------+-------------------+-------------------+-------------------+-------------------+-------------------+-------------------+-------------------+-------------------+-------------------+-------------------+-------------------+-------------------+-------------------+-------------------+-------------------+-------------------+--------------------+-------------------+-------------------+-------------------+-------------------+-------------------+-------------------+------------------+-------------------+-------------------+-------------------+-----------------+------------------+-------------------+-------------------+------------------+-------------------+-----------------+-------------------+-------------------+-------------------+-------------------+-------------------+-------------------+-------------------+-------------------+-------------------+-------------------+-------------------+-------------------+-------------------+-------------------+-------------------+------------------+-------------------+-------------------+-------------------+-------------------+--------------------+-------------------+------------------+-------------------+-------------------+-------------------+-------------------+-------------------+-------------------+------------------+-------------------+-------------------+-------------------+-------------------+-------------------+-------------------+------------------+-------------------+-------------------+-------------------+-------------------+-------------------+-------------------+-------------------+-------------------+-------------------+-------------------+-------------------+-------------------+-------------------+-------------------+-------------------+-------------------+-------------------+-------------------+-------------------+--------------------+-------------------+------------------+-------------------+-------------------+-------------------+-------------------+-------------------+-------------------+-------------------+-------------------+-------------------+-------------------+-------------------+-------------------+-------------------+-------------------+-------------------+-------------------+-------------------+-----------------+------------------+-------------------+-------------------+-------------------+-------------------+-------------------+-------------------+-------------------+-------------------+-------------------+-------------------+-------------------+-------------------+--------------------+------------------+-------------------+-------------------+-------------------+-------------------+-------------------+-------------------+-------------------+------------------+-------------------+------------------+------------------+-------------------+------------------+-------------------+-------------------+-------------------+------------------+--------------------+-------------------+-------------------+-------------------+-------------------+-------------------+-------------------+-------------------+-------------------+-------------------+-------------------+-------------------+-------------------+-------------------+-------------------+-------------------+-------------------+------------------+--------------------+-------------------+-------------------+------------------+-------------------+------------------+-------------------+------------------+-------------------+-------------------+-------------------+-------------------+-------------------+-------------------+-------------------+-------------------+-------------------+-------------------+-------------------+-------------------+-------------------+-------------------+-------------------+-----------------+-------------------+-------------------+-------------------+-------------------+-------------------+-------------------+-------------------+-------------------+-------------------+-------------------+------------------+--------------------+-------------------+------------------+-------------------+-------------------+-------------------+-------------------+-------------------+-------------------+-------------------+-------------------+-------------------+-----------------+-------------------+-------------------+-------------------+-------------------+-------------------+-------------------+-------------------+-------------------+-------------------+-------------------+-------------------+-------------------+-------------------+-------------------+-------------------+-------------------+-------------------+-------------------+-------------------+-------------------+-------------------+------------------+-------------------+-------------------+-------------------+-------------------+-------------------+------------------+-------------------+------------------+-------------------+------------------+-------------------+--------------------+-------------------+-------------------+-------------------+-------------------+-------------------+-------------------+-------------------+-------------------+-------------------+-------------------+-------------------+-------------------+-------------------+-------------------+-----------------+-------------------+-------------------+------------------+-------------------+-------------------+-------------------+-------------------+-------------------+-------------------+-------------------+-------------------+-------------------+\n",
      "|  GGOEAXXX0812|               NULL|               NULL|              NULL|               NULL|              NULL|               NULL|               NULL|               NULL|               NULL|               NULL|               NULL|               NULL|               NULL|               NULL|              NULL|               NULL|               NULL|               NULL|               NULL|               NULL|               NULL|               NULL|               NULL|               NULL|               NULL|              NULL|               NULL|               NULL|              NULL|               NULL|               NULL|               NULL|               NULL|               NULL|               NULL|               NULL|               NULL|               NULL|               NULL|              NULL|               NULL|               NULL|               NULL|               NULL|               NULL|               NULL|               NULL|               NULL|              NULL|               NULL|              NULL|              NULL|                NULL|               NULL|              NULL|               NULL|               NULL|               NULL|               NULL|             NULL|               NULL|               NULL|               NULL|               NULL|               NULL|               NULL|               NULL|              NULL|               NULL|               NULL|               NULL|               NULL|               NULL|              NULL|               NULL|              NULL|               NULL|               NULL|               NULL|               NULL|               NULL|               NULL|               NULL|               NULL|               NULL|               NULL|               NULL|               NULL|               NULL|               NULL|               NULL|               NULL|                NULL|               NULL|               NULL|               NULL|               NULL|               NULL|               NULL|               NULL|               NULL|               NULL|               NULL|               NULL|               NULL|               NULL|               NULL|               NULL|               NULL|               NULL|               NULL|               NULL|               NULL|               NULL|               NULL|               NULL|               NULL|               NULL|               NULL|               NULL|               NULL|               NULL|              NULL|               NULL|               NULL|               NULL|               NULL|               NULL|               NULL|               NULL|               NULL|               NULL|               NULL|               NULL|               NULL|               NULL|               NULL|               NULL|               NULL|               NULL|                NULL|               NULL|               NULL|               NULL|               NULL|               NULL|               NULL|              NULL|               NULL|               NULL|               NULL|             NULL|              NULL|               NULL|               NULL|              NULL|               NULL|             NULL|               NULL|               NULL|               NULL|               NULL|               NULL|               NULL|               NULL|               NULL|               NULL|               NULL|               NULL|               NULL|               NULL|               NULL|               NULL|              NULL|               NULL|               NULL|               NULL|               NULL|                NULL|               NULL|              NULL|               NULL|               NULL|               NULL|               NULL|               NULL|               NULL|              NULL|               NULL|               NULL|               NULL|               NULL|               NULL|               NULL|              NULL|               NULL|               NULL|               NULL|               NULL|               NULL|               NULL|               NULL|               NULL|               NULL|               NULL|               NULL|               NULL|               NULL|               NULL|               NULL|               NULL|               NULL|               NULL|               NULL|                NULL|               NULL|              NULL|               NULL|               NULL|               NULL|               NULL|               NULL|               NULL|               NULL|               NULL|               NULL|               NULL|               NULL|               NULL|               NULL|               NULL|               NULL|               NULL|               NULL|             NULL|              NULL|               NULL|               NULL|               NULL|               NULL|               NULL|               NULL|               NULL|               NULL|               NULL|               NULL|               NULL|               NULL|                NULL|              NULL|               NULL|               NULL|               NULL|               NULL|               NULL|               NULL|               NULL|              NULL|               NULL|              NULL|              NULL|               NULL|              NULL|               NULL|               NULL|               NULL|              NULL|                NULL|               NULL|               NULL|               NULL|               NULL|               NULL|               NULL|               NULL|               NULL|               NULL|               NULL|               NULL|               NULL|               NULL|               NULL|               NULL|               NULL|              NULL|                NULL|               NULL|               NULL|              NULL|               NULL|              NULL|               NULL|              NULL|               NULL|               NULL|               NULL|               NULL|               NULL|               NULL|               NULL|               NULL|               NULL|               NULL|               NULL|               NULL|               NULL|               NULL|               NULL|             NULL|               NULL|               NULL|               NULL|               NULL|               NULL|               NULL|               NULL|               NULL|               NULL|               NULL|              NULL|-0.15323032479434806|               NULL|              NULL|               NULL|               NULL|               NULL|               NULL|               NULL|               NULL|               NULL|               NULL|               NULL|             NULL|               NULL|               NULL|               NULL|               NULL|               NULL|               NULL|               NULL|               NULL|               NULL|               NULL|               NULL|               NULL|               NULL|               NULL|               NULL|               NULL|               NULL|               NULL|               NULL|               NULL|               NULL|              NULL|               NULL|               NULL|               NULL|-0.1702652569190286|               NULL|              NULL|               NULL|              NULL|               NULL|              NULL|               NULL|                NULL|               NULL|               NULL|               NULL|               NULL|               NULL|               NULL|-0.1653828192791745|               NULL|               NULL|               NULL|               NULL|               NULL|               NULL|               NULL|             NULL|               NULL|               NULL|              NULL|               NULL|               NULL|               NULL|               NULL|               NULL|               NULL|               NULL|               NULL|               NULL|\n",
      "|GGOEGOAB022499|               NULL|               NULL|              NULL|               NULL|              NULL|               NULL|               NULL|               NULL|               NULL|               NULL|               NULL|               NULL|               NULL|               NULL|              NULL|               NULL|               NULL|               NULL|               NULL|               NULL|               NULL|               NULL|               NULL|               NULL|               NULL|              NULL|               NULL|               NULL|              NULL|               NULL|               NULL|               NULL|               NULL|               NULL|               NULL|               NULL|               NULL|               NULL|               NULL|              NULL|               NULL|               NULL|               NULL|               NULL|               NULL|               NULL|               NULL|               NULL|              NULL|               NULL|              NULL|              NULL|                NULL|               NULL|              NULL|               NULL|               NULL|               NULL|               NULL|             NULL|               NULL|               NULL|               NULL|               NULL|               NULL|               NULL|               NULL|              NULL|               NULL|               NULL|               NULL|               NULL|               NULL|              NULL|               NULL|              NULL|               NULL|               NULL|               NULL|               NULL|               NULL|               NULL|               NULL|               NULL|               NULL|               NULL|               NULL|               NULL|               NULL|               NULL|               NULL|               NULL|-0.14794832638955582|               NULL|               NULL|               NULL|               NULL|               NULL|               NULL|               NULL|               NULL|               NULL|               NULL|               NULL|               NULL|               NULL|               NULL|               NULL|               NULL|               NULL|               NULL|               NULL|               NULL|               NULL|               NULL|               NULL|               NULL|               NULL|               NULL|               NULL|               NULL|               NULL|              NULL|               NULL|               NULL|               NULL|               NULL|               NULL|               NULL|               NULL|               NULL|               NULL|               NULL|               NULL|               NULL|               NULL|               NULL|               NULL|               NULL|               NULL|                NULL|               NULL|               NULL|               NULL|               NULL|               NULL|               NULL|              NULL|               NULL|               NULL|               NULL|             NULL|              NULL|               NULL|               NULL|              NULL|               NULL|             NULL|               NULL|               NULL|               NULL|               NULL|               NULL|               NULL|               NULL|               NULL|               NULL|               NULL|               NULL|               NULL|               NULL|               NULL|               NULL|              NULL|               NULL|               NULL|               NULL|               NULL|                NULL|               NULL|              NULL|               NULL|               NULL|               NULL|               NULL|               NULL|               NULL|              NULL|-0.1955252935707288|               NULL|               NULL|               NULL|               NULL|               NULL|              NULL|               NULL|               NULL|               NULL|               NULL|               NULL|               NULL|               NULL|               NULL|               NULL|               NULL|               NULL|               NULL|               NULL|               NULL|               NULL|               NULL|               NULL|               NULL|               NULL|-0.08721509011895567|               NULL|              NULL|               NULL|               NULL|               NULL|               NULL|               NULL|               NULL|               NULL|               NULL|               NULL|               NULL|               NULL|               NULL|               NULL|               NULL|               NULL|               NULL|               NULL|             NULL|              NULL|               NULL|               NULL|               NULL|               NULL|               NULL|               NULL|               NULL|               NULL|               NULL|               NULL|               NULL|               NULL|                NULL|              NULL|               NULL|               NULL|               NULL|               NULL|               NULL|               NULL|               NULL|              NULL|               NULL|              NULL|              NULL|               NULL|              NULL|               NULL|               NULL|               NULL|              NULL|                NULL|               NULL|               NULL|               NULL|               NULL|               NULL|               NULL|               NULL|               NULL|               NULL|               NULL|               NULL|               NULL|               NULL|               NULL|               NULL|               NULL|              NULL|                NULL|               NULL|               NULL|              NULL|               NULL|              NULL|               NULL|              NULL|               NULL|               NULL|               NULL|               NULL|               NULL|               NULL|               NULL|               NULL|               NULL|               NULL|               NULL|               NULL|               NULL|               NULL|               NULL|             NULL|               NULL|               NULL|               NULL|               NULL|               NULL|-0.1390995172538522|               NULL|               NULL|               NULL|               NULL|              NULL|                NULL|               NULL|              NULL|               NULL|               NULL|               NULL|               NULL|               NULL|               NULL|               NULL|               NULL|               NULL|             NULL|               NULL|               NULL|               NULL|               NULL|               NULL|               NULL|               NULL|               NULL|               NULL|               NULL|               NULL|               NULL|               NULL|               NULL|               NULL|               NULL|               NULL|               NULL|               NULL|               NULL|               NULL|              NULL|               NULL|               NULL|               NULL|               NULL|               NULL|              NULL|               NULL|              NULL|               NULL|              NULL|               NULL|                NULL|               NULL|               NULL|               NULL|               NULL| -0.170937688450266|               NULL|               NULL|               NULL|               NULL|               NULL|               NULL|               NULL|               NULL|               NULL|             NULL|               NULL|               NULL|              NULL|               NULL|               NULL|               NULL|               NULL|               NULL|               NULL|               NULL|               NULL|               NULL|\n",
      "|  GGOEGAAX0596|               NULL|               NULL|              NULL|               NULL|              NULL|               NULL|               NULL|-0.1724872045874652|               NULL|               NULL|               NULL|               NULL|               NULL|               NULL|              NULL|               NULL|               NULL|               NULL|               NULL|               NULL|               NULL|               NULL|               NULL|               NULL|               NULL|              NULL|               NULL|               NULL|              NULL|               NULL|               NULL|               NULL|               NULL|               NULL|               NULL|               NULL|               NULL|               NULL|               NULL|              NULL|               NULL|               NULL|               NULL|               NULL|               NULL|               NULL|               NULL|               NULL|              NULL|               NULL|              NULL|              NULL|-0.17499176840671168|               NULL|              NULL|               NULL|               NULL|               NULL|               NULL|             NULL|               NULL|               NULL|               NULL|               NULL|               NULL|               NULL|               NULL|              NULL|               NULL|               NULL|               NULL|               NULL|               NULL|              NULL|               NULL|              NULL|               NULL|               NULL|               NULL|               NULL|               NULL|               NULL|               NULL|               NULL|               NULL|               NULL|               NULL|               NULL|               NULL|               NULL|               NULL|               NULL|                NULL|               NULL|               NULL|               NULL|               NULL|               NULL|               NULL|               NULL|               NULL|               NULL|               NULL|               NULL|               NULL|               NULL|               NULL|               NULL|               NULL|               NULL|               NULL|               NULL|               NULL|               NULL|               NULL|               NULL|               NULL|               NULL|               NULL|               NULL|               NULL|               NULL|              NULL|               NULL|               NULL|               NULL|               NULL|               NULL|               NULL|               NULL|               NULL|               NULL|               NULL|               NULL|               NULL|               NULL|               NULL|               NULL|               NULL|               NULL|                NULL|               NULL|               NULL|               NULL|               NULL|               NULL|               NULL|              NULL|               NULL|               NULL|               NULL|             NULL|              NULL|               NULL|               NULL|              NULL|               NULL|             NULL|               NULL|               NULL|               NULL|               NULL|               NULL|               NULL|               NULL|               NULL|               NULL|               NULL|               NULL|               NULL|               NULL|               NULL|               NULL|              NULL|               NULL|               NULL|               NULL|               NULL|                NULL|               NULL|              NULL|               NULL|               NULL|               NULL|               NULL|               NULL|               NULL|              NULL|               NULL|               NULL|               NULL|               NULL|               NULL|               NULL|              NULL|               NULL|               NULL|               NULL|               NULL|               NULL|               NULL|               NULL|               NULL|               NULL|               NULL|               NULL|               NULL|               NULL|               NULL|               NULL|               NULL|               NULL|               NULL|               NULL|                NULL|               NULL|              NULL|               NULL|               NULL|               NULL|               NULL|               NULL|               NULL|               NULL|               NULL|               NULL|               NULL|               NULL|               NULL|               NULL|               NULL|               NULL|               NULL|               NULL|             NULL|              NULL|               NULL|               NULL|               NULL|               NULL|               NULL|               NULL|               NULL|               NULL|               NULL|               NULL|               NULL|               NULL|-0.19553503895523947|              NULL|               NULL|               NULL|               NULL|               NULL|               NULL|               NULL|               NULL|              NULL|               NULL|              NULL|              NULL|               NULL|              NULL|               NULL|               NULL|               NULL|              NULL|-0.17940642759005282|               NULL|               NULL|               NULL|               NULL|               NULL|               NULL|               NULL|               NULL|               NULL|               NULL|               NULL|               NULL|               NULL|               NULL|               NULL|               NULL|              NULL|-0.11215352908180319|               NULL|               NULL|              NULL|               NULL|              NULL|               NULL|              NULL|               NULL|               NULL|               NULL|               NULL|               NULL|               NULL|               NULL|               NULL|               NULL|               NULL|               NULL|               NULL|               NULL|               NULL|               NULL|             NULL|               NULL|               NULL|               NULL|               NULL|               NULL|               NULL|               NULL|               NULL|               NULL|               NULL|              NULL|                NULL|               NULL|              NULL|               NULL|               NULL|               NULL|               NULL|               NULL|               NULL|               NULL|               NULL|               NULL|             NULL|               NULL|               NULL|               NULL|               NULL|               NULL|               NULL|               NULL|               NULL|               NULL|               NULL|               NULL|               NULL|               NULL|               NULL|               NULL|               NULL|               NULL|               NULL|               NULL|               NULL|               NULL|              NULL|               NULL|               NULL|               NULL|               NULL|               NULL|              NULL|               NULL|              NULL|               NULL|              NULL|               NULL|-0.07153476644126061|               NULL|               NULL|               NULL|               NULL|               NULL|               NULL|               NULL|               NULL|               NULL|               NULL|               NULL|               NULL|               NULL|               NULL|             NULL|               NULL|               NULL|              NULL|               NULL|               NULL|               NULL|               NULL|               NULL|               NULL|               NULL|               NULL|               NULL|\n",
      "|  GGOEGAAX0568|               NULL|               NULL|              NULL|               NULL|              NULL|               NULL|               NULL|               NULL|               NULL|               NULL|               NULL|               NULL|               NULL|               NULL|              NULL|               NULL|               NULL|               NULL|               NULL|               NULL|               NULL|               NULL|               NULL|               NULL|               NULL|              NULL|               NULL|               NULL|              NULL|               NULL|               NULL|               NULL|               NULL|               NULL|               NULL|               NULL|               NULL|               NULL|               NULL|              NULL|               NULL|               NULL|               NULL|               NULL|               NULL|-0.1419744056845048|               NULL|               NULL|              NULL|               NULL|              NULL|              NULL|                NULL|               NULL|              NULL|               NULL|               NULL|               NULL|               NULL|             NULL|               NULL|               NULL|               NULL|               NULL|               NULL|               NULL|               NULL|              NULL|               NULL|               NULL|               NULL|               NULL|               NULL|              NULL|               NULL|              NULL|               NULL|               NULL|               NULL|               NULL|               NULL|               NULL|               NULL|               NULL|               NULL|               NULL|               NULL|               NULL|               NULL|               NULL|               NULL|               NULL|                NULL|               NULL|               NULL|               NULL|               NULL|               NULL|               NULL|               NULL|               NULL|               NULL|               NULL|               NULL|               NULL|               NULL|               NULL|               NULL|               NULL|               NULL|               NULL|               NULL|               NULL|               NULL|               NULL|               NULL|               NULL|               NULL|               NULL|               NULL|               NULL|               NULL|              NULL|               NULL|               NULL|               NULL|               NULL|               NULL|               NULL|               NULL|               NULL|               NULL|               NULL|               NULL|               NULL|               NULL|               NULL|               NULL|               NULL|               NULL|                NULL|               NULL|               NULL|               NULL|               NULL|               NULL|               NULL|              NULL|               NULL|               NULL|               NULL|             NULL|              NULL|               NULL|               NULL|              NULL|               NULL|             NULL|               NULL|               NULL|               NULL|               NULL|               NULL|               NULL|               NULL|               NULL|               NULL|               NULL|               NULL|               NULL|               NULL|               NULL|               NULL|              NULL|               NULL|               NULL|               NULL|               NULL|-0.14571663333660853|               NULL|              NULL|               NULL|               NULL|               NULL|               NULL|               NULL|               NULL|              NULL|               NULL|               NULL|               NULL|               NULL|               NULL|               NULL|              NULL|               NULL|               NULL|               NULL|               NULL|               NULL|               NULL|               NULL|               NULL|               NULL|               NULL|               NULL|               NULL|               NULL|               NULL|               NULL|               NULL|               NULL|               NULL|               NULL|                NULL|               NULL|              NULL|               NULL|               NULL|               NULL|               NULL|               NULL|               NULL|               NULL|               NULL|               NULL|               NULL|               NULL|               NULL|               NULL|               NULL|               NULL|               NULL|               NULL|             NULL|              NULL|               NULL|               NULL|               NULL|               NULL|               NULL|               NULL|               NULL|               NULL|               NULL|               NULL|               NULL|               NULL|                NULL|              NULL|               NULL|               NULL|               NULL|               NULL|               NULL|               NULL|               NULL|              NULL|               NULL|              NULL|              NULL|               NULL|              NULL|               NULL|               NULL|               NULL|              NULL|                NULL|               NULL|               NULL|               NULL|               NULL|               NULL|               NULL|               NULL|               NULL|               NULL|               NULL|               NULL|               NULL|               NULL|               NULL|               NULL|               NULL|0.2087522374706025|                NULL|               NULL|               NULL|              NULL|               NULL|              NULL|               NULL|              NULL|               NULL|               NULL|               NULL|               NULL|               NULL|               NULL|               NULL|               NULL|               NULL|               NULL|               NULL|               NULL|               NULL|               NULL|               NULL|             NULL|               NULL|               NULL|               NULL|               NULL|               NULL|               NULL|               NULL|               NULL|               NULL|               NULL|              NULL|                NULL|               NULL|              NULL|               NULL|               NULL|               NULL|               NULL|               NULL|               NULL|               NULL|               NULL|               NULL|             NULL|               NULL|               NULL|               NULL|               NULL|               NULL|               NULL|               NULL|               NULL|               NULL|               NULL|               NULL|               NULL|               NULL|               NULL|               NULL|               NULL|               NULL|               NULL|               NULL|               NULL|               NULL|              NULL|               NULL|               NULL|               NULL|               NULL|               NULL|              NULL|               NULL|              NULL|               NULL|              NULL|               NULL|                NULL|               NULL|               NULL|               NULL|               NULL|               NULL|               NULL|               NULL|               NULL|               NULL|               NULL|               NULL|               NULL|               NULL|               NULL|             NULL|               NULL|               NULL|              NULL|               NULL|               NULL|               NULL|               NULL|               NULL|               NULL|               NULL|               NULL|               NULL|\n",
      "|GGOEGHPL003214|               NULL|               NULL|              NULL|               NULL|              NULL|               NULL|               NULL|               NULL|               NULL|               NULL|               NULL|               NULL|               NULL|               NULL|              NULL|               NULL|               NULL|               NULL|               NULL|               NULL|               NULL|               NULL|               NULL|               NULL|               NULL|              NULL|               NULL|               NULL|              NULL|               NULL|               NULL|               NULL|               NULL|               NULL|               NULL|               NULL|               NULL|               NULL|               NULL|              NULL|               NULL|               NULL|               NULL|               NULL|               NULL|               NULL|               NULL|               NULL|              NULL|               NULL|              NULL|              NULL|                NULL|               NULL|              NULL|               NULL|               NULL|               NULL|               NULL|             NULL|               NULL|               NULL|               NULL|               NULL|               NULL|               NULL|               NULL|              NULL|               NULL|               NULL|               NULL|               NULL|               NULL|              NULL|               NULL|              NULL|               NULL|               NULL|               NULL|               NULL|               NULL|               NULL|               NULL|               NULL|               NULL|               NULL|               NULL|               NULL|               NULL|               NULL|               NULL|               NULL|                NULL|               NULL|               NULL|               NULL|               NULL|               NULL|               NULL|               NULL|               NULL|               NULL|               NULL|               NULL|               NULL|               NULL|               NULL|               NULL|               NULL|               NULL|               NULL|               NULL|               NULL|               NULL|               NULL|               NULL|               NULL|               NULL|               NULL|               NULL|               NULL|               NULL|              NULL|               NULL|               NULL|               NULL|               NULL|               NULL|               NULL|               NULL|               NULL|               NULL|               NULL|               NULL|               NULL|               NULL|               NULL|               NULL|               NULL|               NULL|-0.10929813142017196|               NULL|               NULL|               NULL|               NULL|               NULL|               NULL|              NULL|               NULL|               NULL|               NULL|             NULL|              NULL|               NULL|               NULL|              NULL|               NULL|             NULL|               NULL|               NULL|               NULL|               NULL|               NULL|               NULL|               NULL|               NULL|               NULL|               NULL|               NULL|               NULL|               NULL|               NULL|               NULL|              NULL|               NULL|               NULL|               NULL|               NULL|                NULL|               NULL|              NULL|               NULL|               NULL|               NULL|               NULL|               NULL|               NULL|              NULL|               NULL|               NULL|               NULL|               NULL|               NULL|               NULL|              NULL|               NULL|               NULL|               NULL|               NULL|               NULL|               NULL|               NULL|               NULL|               NULL|               NULL|               NULL|               NULL|               NULL|               NULL|               NULL|               NULL|               NULL|               NULL|               NULL|                NULL|               NULL|              NULL|               NULL|               NULL|               NULL|               NULL|               NULL|               NULL|               NULL|               NULL|               NULL|               NULL|               NULL|               NULL|               NULL|               NULL|               NULL|               NULL|               NULL|             NULL|              NULL|               NULL|               NULL|               NULL|               NULL|               NULL|               NULL|               NULL|               NULL|               NULL|               NULL|               NULL|               NULL|                NULL|              NULL|               NULL|               NULL|               NULL|               NULL|               NULL|               NULL|               NULL|              NULL|               NULL|              NULL|              NULL|               NULL|              NULL|               NULL|               NULL|               NULL|              NULL|                NULL|               NULL|               NULL|               NULL|               NULL|               NULL|               NULL|               NULL|               NULL|               NULL|               NULL|               NULL|               NULL|               NULL|               NULL|               NULL|               NULL|              NULL|                NULL|               NULL|               NULL|              NULL|               NULL|              NULL|               NULL|              NULL|               NULL|               NULL|               NULL|               NULL|               NULL|               NULL|               NULL|               NULL|               NULL|               NULL|               NULL|               NULL|               NULL|               NULL|               NULL|             NULL|               NULL|               NULL|               NULL|               NULL|               NULL|               NULL|               NULL|               NULL|               NULL|               NULL|              NULL|                NULL|               NULL|              NULL|               NULL|               NULL|               NULL|               NULL|               NULL|               NULL|               NULL|               NULL|               NULL|             NULL|               NULL|               NULL|               NULL|               NULL|               NULL|               NULL|               NULL|               NULL|               NULL|               NULL|               NULL|               NULL|               NULL|               NULL|               NULL|               NULL|               NULL|               NULL|               NULL|               NULL|               NULL|              NULL|               NULL|               NULL|               NULL|               NULL|               NULL|              NULL|               NULL|              NULL|               NULL|              NULL|               NULL|                NULL|               NULL|               NULL|               NULL|               NULL|               NULL|               NULL|               NULL|               NULL|               NULL|               NULL|               NULL|               NULL|               NULL|               NULL|             NULL|               NULL|               NULL|              NULL|               NULL|               NULL|               NULL|               NULL|               NULL|               NULL|               NULL|               NULL|               NULL|\n",
      "+--------------+-------------------+-------------------+------------------+-------------------+------------------+-------------------+-------------------+-------------------+-------------------+-------------------+-------------------+-------------------+-------------------+-------------------+------------------+-------------------+-------------------+-------------------+-------------------+-------------------+-------------------+-------------------+-------------------+-------------------+-------------------+------------------+-------------------+-------------------+------------------+-------------------+-------------------+-------------------+-------------------+-------------------+-------------------+-------------------+-------------------+-------------------+-------------------+------------------+-------------------+-------------------+-------------------+-------------------+-------------------+-------------------+-------------------+-------------------+------------------+-------------------+------------------+------------------+--------------------+-------------------+------------------+-------------------+-------------------+-------------------+-------------------+-----------------+-------------------+-------------------+-------------------+-------------------+-------------------+-------------------+-------------------+------------------+-------------------+-------------------+-------------------+-------------------+-------------------+------------------+-------------------+------------------+-------------------+-------------------+-------------------+-------------------+-------------------+-------------------+-------------------+-------------------+-------------------+-------------------+-------------------+-------------------+-------------------+-------------------+-------------------+-------------------+--------------------+-------------------+-------------------+-------------------+-------------------+-------------------+-------------------+-------------------+-------------------+-------------------+-------------------+-------------------+-------------------+-------------------+-------------------+-------------------+-------------------+-------------------+-------------------+-------------------+-------------------+-------------------+-------------------+-------------------+-------------------+-------------------+-------------------+-------------------+-------------------+-------------------+------------------+-------------------+-------------------+-------------------+-------------------+-------------------+-------------------+-------------------+-------------------+-------------------+-------------------+-------------------+-------------------+-------------------+-------------------+-------------------+-------------------+-------------------+--------------------+-------------------+-------------------+-------------------+-------------------+-------------------+-------------------+------------------+-------------------+-------------------+-------------------+-----------------+------------------+-------------------+-------------------+------------------+-------------------+-----------------+-------------------+-------------------+-------------------+-------------------+-------------------+-------------------+-------------------+-------------------+-------------------+-------------------+-------------------+-------------------+-------------------+-------------------+-------------------+------------------+-------------------+-------------------+-------------------+-------------------+--------------------+-------------------+------------------+-------------------+-------------------+-------------------+-------------------+-------------------+-------------------+------------------+-------------------+-------------------+-------------------+-------------------+-------------------+-------------------+------------------+-------------------+-------------------+-------------------+-------------------+-------------------+-------------------+-------------------+-------------------+-------------------+-------------------+-------------------+-------------------+-------------------+-------------------+-------------------+-------------------+-------------------+-------------------+-------------------+--------------------+-------------------+------------------+-------------------+-------------------+-------------------+-------------------+-------------------+-------------------+-------------------+-------------------+-------------------+-------------------+-------------------+-------------------+-------------------+-------------------+-------------------+-------------------+-------------------+-----------------+------------------+-------------------+-------------------+-------------------+-------------------+-------------------+-------------------+-------------------+-------------------+-------------------+-------------------+-------------------+-------------------+--------------------+------------------+-------------------+-------------------+-------------------+-------------------+-------------------+-------------------+-------------------+------------------+-------------------+------------------+------------------+-------------------+------------------+-------------------+-------------------+-------------------+------------------+--------------------+-------------------+-------------------+-------------------+-------------------+-------------------+-------------------+-------------------+-------------------+-------------------+-------------------+-------------------+-------------------+-------------------+-------------------+-------------------+-------------------+------------------+--------------------+-------------------+-------------------+------------------+-------------------+------------------+-------------------+------------------+-------------------+-------------------+-------------------+-------------------+-------------------+-------------------+-------------------+-------------------+-------------------+-------------------+-------------------+-------------------+-------------------+-------------------+-------------------+-----------------+-------------------+-------------------+-------------------+-------------------+-------------------+-------------------+-------------------+-------------------+-------------------+-------------------+------------------+--------------------+-------------------+------------------+-------------------+-------------------+-------------------+-------------------+-------------------+-------------------+-------------------+-------------------+-------------------+-----------------+-------------------+-------------------+-------------------+-------------------+-------------------+-------------------+-------------------+-------------------+-------------------+-------------------+-------------------+-------------------+-------------------+-------------------+-------------------+-------------------+-------------------+-------------------+-------------------+-------------------+-------------------+------------------+-------------------+-------------------+-------------------+-------------------+-------------------+------------------+-------------------+------------------+-------------------+------------------+-------------------+--------------------+-------------------+-------------------+-------------------+-------------------+-------------------+-------------------+-------------------+-------------------+-------------------+-------------------+-------------------+-------------------+-------------------+-------------------+-----------------+-------------------+-------------------+------------------+-------------------+-------------------+-------------------+-------------------+-------------------+-------------------+-------------------+-------------------+-------------------+\n",
      "only showing top 5 rows\n",
      "\n"
     ]
    },
    {
     "name": "stderr",
     "output_type": "stream",
     "text": [
      "                                                                                \r"
     ]
    }
   ],
   "source": [
    "def user_user_utility_matrix(df):\n",
    "    \"\"\"\n",
    "    Create a user-user utility matrix from a DataFrame.\n",
    "    \"\"\"\n",
    "    # Pivot the DataFrame to create a user-user utility matrix\n",
    "    utility_matrix = df.groupBy(\"fullVisitorId\").pivot(\"productSKU\").agg(F.first(\"normalized_duration\"))\n",
    "    return utility_matrix\n",
    "\n",
    "def item_item_utility_matrix(df):\n",
    "    \"\"\"\n",
    "    Create an item-item utility matrix from a DataFrame.\n",
    "    \"\"\"\n",
    "    # Pivot the DataFrame to create an item-item utility matrix\n",
    "    utility_matrix = df.groupBy(\"productSKU\").pivot(\"fullVisitorId\").agg(F.first(\"normalized_duration\"))\n",
    "    return utility_matrix\n",
    "\n",
    "utility_matrix_user_user = user_user_utility_matrix(normalized_df)\n",
    "utility_matrix_item_item = item_item_utility_matrix(normalized_df)\n",
    "# Show the result\n",
    "utility_matrix_user_user.show(5)\n",
    "utility_matrix_item_item.show(5)"
   ]
  },
  {
   "cell_type": "markdown",
   "metadata": {},
   "source": [
    "## Model Development\n",
    "\n",
    "In this step, we will implement three collaborative filtering algorithms:\n",
    "1. **Latent Factor Model**\n",
    "2. **Item-Based Filtering**\n",
    "3. **User-Based Filtering**"
   ]
  },
  {
   "cell_type": "markdown",
   "metadata": {},
   "source": [
    "#### Utility Functions\n"
   ]
  },
  {
   "cell_type": "code",
   "execution_count": 231,
   "metadata": {},
   "outputs": [
    {
     "name": "stderr",
     "output_type": "stream",
     "text": [
      "[Stage 14449:>                                                      (0 + 1) / 1]\r"
     ]
    },
    {
     "name": "stdout",
     "output_type": "stream",
     "text": [
      "+-------------------+--------------+----------------+--------------------+------+------+\n",
      "|      fullVisitorId|    productSKU|session_duration| normalized_duration|userId|itemId|\n",
      "+-------------------+--------------+----------------+--------------------+------+------+\n",
      "|0049931492016965831|GGOEGEVA022399|            9821|-0.09982561767578439| 165.0|   8.0|\n",
      "|0052381813974609729|GGOEAOCB077499|           14292| -0.0562540035285037|  49.0|  20.0|\n",
      "|0052381813974609729|GGOEGOCB017499|            6931|-0.12798977891166924|  49.0|  21.0|\n",
      "|0052381813974609729|GGOEGOCC077299|            4745| -0.1492931894520306|  49.0|  22.0|\n",
      "| 008016723867009901|GGOEGESB015099|            1488| -0.1810339068033375|  12.0|  42.0|\n",
      "| 008016723867009901|GGOEGESC014099|               0|-0.19553503895523947|  12.0|  74.0|\n",
      "| 008016723867009901|GGOEGDHC074099|            1394|-0.18194997294734208|  12.0|  13.0|\n",
      "| 008016723867009901|GGOEGBJL013999|            1419| -0.1817063383345749|  12.0|   9.0|\n",
      "| 008016723867009901|GGOEGCKQ013199|               1| -0.1955252935707288|  12.0| 120.0|\n",
      "| 008016723867009901|GGOEACCQ017299|               0|-0.19553503895523947|  12.0|  45.0|\n",
      "| 008016723867009901|GGOEGBPB021199|            1292|-0.18294400216743212|  12.0|  41.0|\n",
      "|0082784177006211656|GGOEGKWQ060910|            5509|-0.14184771568586588|  29.0|  78.0|\n",
      "|0082784177006211656|GGOEGKWR060810|            1782| -0.1781687637571956|  29.0|  79.0|\n",
      "|0082784177006211656|  GGOEGAAX0617|            8638|-0.11135440755192688|  29.0|  71.0|\n",
      "|0082784177006211656|  GGOEGAAX0610|               0|-0.19553503895523947|  29.0| 156.0|\n",
      "| 008974926326637231|  GGOEGAAX0351|           16293|-0.03675348912261941|  95.0|  30.0|\n",
      "| 008974926326637231|  GGOEGAAX0325|           13752|-0.06151651116427...|  95.0|  14.0|\n",
      "|0091712978079395246|GGOEGGOA017399|            3031|-0.16599677850334776|  50.0|  76.0|\n",
      "|0091712978079395246|GGOEGOAQ020099|            1812|-0.17787640222187498|  50.0| 128.0|\n",
      "|0091712978079395246|GGOEGOCB017499|            2141|-0.17467017071785904|  50.0|  21.0|\n",
      "+-------------------+--------------+----------------+--------------------+------+------+\n",
      "only showing top 20 rows\n",
      "\n"
     ]
    },
    {
     "name": "stderr",
     "output_type": "stream",
     "text": [
      "                                                                                \r"
     ]
    }
   ],
   "source": [
    "from pyspark.ml.feature import StringIndexer\n",
    "from pyspark.ml import Pipeline\n",
    "\n",
    "def string_to_Numeric(df):\n",
    "    '''\n",
    "    Convert string item and user ids to numeric for ALS, since ALS only accepts numberical IDs\n",
    "    '''\n",
    "    userIndexer = StringIndexer(inputCol=\"fullVisitorId\", outputCol=\"userId\").setHandleInvalid(\"skip\")\n",
    "    itemIndexer = StringIndexer(inputCol=\"productSKU\", outputCol=\"itemId\").setHandleInvalid(\"skip\")\n",
    "\n",
    "    # Pipeline to apply the transformations\n",
    "    pipeline = Pipeline(stages=[userIndexer, itemIndexer])\n",
    "\n",
    "    # Fit and transform\n",
    "    transformed_ratings_dataFrame = pipeline.fit(df).transform(df)\n",
    "\n",
    "    transformed_ratings_dataFrame.orderBy(transformed_ratings_dataFrame.fullVisitorId).show()\n",
    "    \n",
    "    return transformed_ratings_dataFrame\n",
    "\n",
    "def row_mean(row):\n",
    "    '''\n",
    "    This function must return the mean of the non-zero elements in the row.\n",
    "    '''\n",
    "    row = row[1:]\n",
    "    non_NULL = [x for x in row if x != None]\n",
    "    if(len(non_NULL) == 0):\n",
    "        return 0\n",
    "    return sum(non_NULL) / len(non_NULL)\n",
    "\n",
    "def pearson_Correlation(row1, row2):\n",
    "    '''\n",
    "    This function must return the Pearson correlation between two rows.\n",
    "    '''\n",
    "    row1 = row1[1:]\n",
    "    row2 = row2[1:]\n",
    "    mean1 = row_mean(row1)\n",
    "    mean2 = row_mean(row2)\n",
    "\n",
    "    #subtract the mean from the row\n",
    "    row1 = [(x1 - mean1) if x1 is not None else 0 for x1 in row1]\n",
    "    row2 = [(x2 - mean2) if x2 is not None else 0 for x2 in row2]\n",
    "\n",
    "    #calculate cossine similarity with centered rows\n",
    "    numerator = sum([row1[i] * row2[i] for i in range(len(row1))])\n",
    "    denominator = (sum([x ** 2 for x in row1]) ** 0.5) * (sum([x ** 2 for x in row2]) ** 0.5)\n",
    "\n",
    "    if denominator == 0:\n",
    "        return 0\n",
    "    else:\n",
    "        return numerator / denominator\n",
    "    \n",
    "ratings_dataframe = string_to_Numeric(normalized_df)\n"
   ]
  },
  {
   "cell_type": "markdown",
   "metadata": {},
   "source": [
    "#### Latent Factor Model"
   ]
  },
  {
   "cell_type": "markdown",
   "metadata": {},
   "source": [
    "##### Basic ALS Recommender System"
   ]
  },
  {
   "cell_type": "code",
   "execution_count": 28,
   "metadata": {},
   "outputs": [
    {
     "name": "stdout",
     "output_type": "stream",
     "text": [
      "rank:  50\n",
      "MaxIter:  10\n",
      "RegParam:  0.15\n",
      "Root-mean-square error = 1.1808151204122308\n"
     ]
    }
   ],
   "source": [
    "from pyspark.ml.evaluation import RegressionEvaluator\n",
    "from pyspark.ml.recommendation import ALS\n",
    "from pyspark.ml.tuning import CrossValidator, ParamGridBuilder\n",
    "\n",
    "\n",
    "def basic_als_recommender(ratings_dataframe, seed):\n",
    "    '''\n",
    "    This function prints the RMSE of recommendations obtained\n",
    "    through ALS collaborative filtering after hyperparameter tuning\n",
    "    and returns the best model.\n",
    "    \n",
    "    The following parameters must be used in the ALS\n",
    "    optimizer:\n",
    "    - coldStartStrategy: 'drop'\n",
    "    '''\n",
    "\n",
    "    (trainingSet, testSet) = ratings_dataframe.randomSplit([0.8, 0.2], seed)\n",
    "\n",
    "    #Build the recommendation model\n",
    "    als = ALS(coldStartStrategy=\"drop\", userCol=\"userId\", itemCol=\"itemId\", ratingCol=\"normalized_duration\", seed=seed)\n",
    "\n",
    "    param_grid = ParamGridBuilder()\\\n",
    "             .addGrid(als.rank, [30, 50, 70])\\\n",
    "             .addGrid(als.maxIter, [5, 10])\\\n",
    "             .addGrid(als.regParam, [0.01, 0.05, 0.15])\\\n",
    "             .build()\n",
    "    \n",
    "    evaluator = RegressionEvaluator(metricName=\"rmse\", labelCol=\"normalized_duration\", predictionCol=\"prediction\")\n",
    "\n",
    "    cv = CrossValidator(\n",
    "        estimator=als,\n",
    "        estimatorParamMaps=param_grid,\n",
    "        evaluator=evaluator,\n",
    "        numFolds=3)\n",
    "    \n",
    "    model = cv.fit(trainingSet)\n",
    "\n",
    "    best_model = model.bestModel\n",
    "\n",
    "    print('rank: ', best_model.rank)\n",
    "    print('MaxIter: ', best_model._java_obj.parent().getMaxIter())\n",
    "    print('RegParam: ', best_model._java_obj.parent().getRegParam())\n",
    "    \n",
    "\n",
    "    #Evaluate the model\n",
    "    predictions = best_model.transform(testSet)\n",
    "\n",
    "    rmse = evaluator.evaluate(predictions)\n",
    "\n",
    "    print(\"Root-mean-square error = \" + str(rmse))\n",
    "    return best_model, trainingSet, testSet\n",
    "\n",
    "\n",
    "(best_model, trainingSet, testSet) = basic_als_recommender(ratings_dataframe, 123)"
   ]
  },
  {
   "cell_type": "markdown",
   "metadata": {},
   "source": [
    "##### Recommend Items with Basic ALS"
   ]
  },
  {
   "cell_type": "code",
   "execution_count": 45,
   "metadata": {},
   "outputs": [
    {
     "name": "stdout",
     "output_type": "stream",
     "text": [
      "+------+---------+---------------+--------------------+\n",
      "|userId|recItemId|predictedRating|        actualRating|\n",
      "+------+---------+---------------+--------------------+\n",
      "|     0|       34|   2.3718482E-4|0.047456378434225246|\n",
      "|     0|       86|   1.1611577E-4| -0.1955252935707288|\n",
      "|     1|       71|   0.0041744504| 0.17470186399026283|\n",
      "|     1|      159|   0.0018805244|  0.0510329345496473|\n",
      "|     2|       74|   1.9507561E-4| 0.02279081023767695|\n",
      "|     3|       56|     0.02378653|  0.5136560826564605|\n",
      "|     3|       13|   0.0031386532|-0.15921399088390975|\n",
      "|     5|      169|   7.8896584E-4| 0.03170783706495538|\n",
      "|     8|       15|   0.0044652536| 0.23103993184654323|\n",
      "|     9|       27|   2.4136652E-4|-0.12527081663318762|\n",
      "|    11|       59|   0.0010359924|  -0.170937688450266|\n",
      "|    14|       17|    0.023564458|-0.16343374237703714|\n",
      "|    14|        6|     0.01660411|  0.5595568437017954|\n",
      "|    17|       41|    9.588975E-5|-0.13346668500667525|\n",
      "|    18|       27|    6.689514E-4| 0.09876582788299126|\n",
      "|    18|      130|    6.457832E-5| -0.1363025918992851|\n",
      "|    19|       84|   0.0031505546| 0.09230463795240591|\n",
      "|    22|       15|   0.0037487377|-0.17976700681694824|\n",
      "|    22|       49|   0.0030746202|  0.1702189871153469|\n",
      "|    27|       25|      1.0387722|  1.6054412547732138|\n",
      "|    28|        4|      0.4097831|   1.467056794721461|\n",
      "|    28|       73|    0.017923873|-0.19553503895523947|\n",
      "|    29|       71|    0.010631325|-0.11135440755192688|\n",
      "|    32|      114|      14.073524|  14.131252184050535|\n",
      "|    32|       14|     13.9391575|  14.694681589535893|\n",
      "|    34|       89|   0.0035883803| 0.10243983784352019|\n",
      "|    35|        5|    0.012656014|  0.2015991252397584|\n",
      "|    35|       15|    0.005794408|0.012460702656348941|\n",
      "|    36|        6|    0.005280431|-0.15570565246006252|\n",
      "|    38|       16|    0.002778413| 0.13132515753319587|\n",
      "|    42|       62|   6.9504656E-4|-0.18231055217423747|\n",
      "|    44|      106|     0.03306352| 0.15989862491852957|\n",
      "|    48|        6|   0.0030306757| 0.07005592511450794|\n",
      "|    52|       53|    0.008437576| 0.04451327231199783|\n",
      "|    52|        5|   0.0057486966| -0.0846812901461771|\n",
      "|    54|        8|   7.9982114E-5| 0.10655239010703002|\n",
      "|    61|       27|   3.4363542E-4|-0.18027376681150395|\n",
      "|    64|       99|   0.0020780005|-0.19553503895523947|\n",
      "|    75|       39|    0.043766085| 0.05152020377518164|\n",
      "|    75|       48|   8.0137665E-4| 0.07543537736440706|\n",
      "|    75|      103|   5.3306454E-4|-0.14803603485015202|\n",
      "|    76|       67|   0.0010668489| -0.1955252935707288|\n",
      "|    82|      117|      2.7936761|  3.1583877673201766|\n",
      "|    84|        3|   0.0019610808| 0.09242158256653416|\n",
      "|    91|       53|    0.038995326| 0.23051368108296613|\n",
      "|   101|        1|     0.12441983| 0.14745376889838252|\n",
      "|   105|       92|    0.018450331| 0.15214129884802288|\n",
      "|   106|       25|    0.050609425| 0.05697761910116625|\n",
      "|   107|       56|    9.149764E-4|0.001438672774762...|\n",
      "|   111|       70|    0.001812119|-0.19553503895523947|\n",
      "|   112|      124|     0.14009696| 0.29009696198130525|\n",
      "|   115|       92|   0.0045459997| 0.11458258694383594|\n",
      "|   116|       39|      3.6173577|  3.9740667054801513|\n",
      "|   116|       48|    0.042527903|0.015627952622322153|\n",
      "|   122|       25|    0.015696501|0.019194763353233522|\n",
      "|   124|       69|     0.01685674| 0.25135905855132523|\n",
      "|   129|       25|       1.611331|  2.0447826792839963|\n",
      "|   129|        2|      1.3806431|  1.3987513946860572|\n",
      "|   131|        5|    0.008290222| 0.01849309566846407|\n",
      "|   138|       71|    0.011348333|-0.19553503895523947|\n",
      "|   147|       18|     0.96278024|  1.5739831535727167|\n",
      "|   149|      114|       3.238951|  3.3308713277748225|\n",
      "|   150|       69|     0.01730331| 0.26662033069506075|\n",
      "|   160|        5|    0.017427994| 0.22766802880584558|\n",
      "|   162|        1|     0.25339356| 0.33492573073046455|\n",
      "|   163|       27|     6.56798E-4|  0.5613889759898044|\n",
      "|   169|       12|   0.0041051973| 0.07515276121359714|\n",
      "|   195|       23|      0.1853438|  0.5204778518139412|\n",
      "|   198|       44|     0.62294984|  0.9468481695409996|\n",
      "|   222|      126|   7.3833694E-4|0.047154271514393956|\n",
      "|   236|        1|       4.344155|   5.034705628700749|\n",
      "|   245|       56|   0.0036182972| 0.02590933328109673|\n",
      "|   266|       97|     0.03273059| 0.19070378535681054|\n",
      "|   288|        7|   4.8703453E-4| 0.03714576162191861|\n",
      "|   306|        2|      4.9613695|  5.6019357341452745|\n",
      "|   335|       87|    0.017311454|  0.2087522374706025|\n",
      "|   346|       17|        6.72507|   7.100775871888905|\n",
      "|   349|        0|      0.7848135|  1.3812779202583958|\n",
      "|   351|      167|       4.011076|   4.126143430769419|\n",
      "|   359|       82|     0.31063193|  0.5138217541931421|\n",
      "|   371|       15|   0.0015451106|0.053644697598511364|\n",
      "|   373|        0|     0.14658777|  0.2579956654031029|\n",
      "|   387|        4|    0.007191815|0.012051396506900095|\n",
      "+------+---------+---------------+--------------------+\n",
      "\n"
     ]
    }
   ],
   "source": [
    "from pyspark.sql.functions import explode, col\n",
    "\n",
    "\n",
    "userRecs = best_model.recommendForAllUsers(50)  # Top-50 recommendations for each user\n",
    "\n",
    "# Explode the recommendations to have one item per row for each user\n",
    "userRecsExploded = userRecs.withColumn(\"rec_exp\", explode(\"recommendations\")).select(\n",
    "    col(\"userId\"),\n",
    "    col(\"rec_exp.itemId\").alias(\"recItemId\"),\n",
    "    col(\"rec_exp.rating\").alias(\"predictedRating\")\n",
    ")\n",
    "\n",
    "# Join the exploded recommendations with the actual ratings on userId and itemId\n",
    "comparisonDf = userRecsExploded.join(\n",
    "    ratings_dataframe,\n",
    "    (userRecsExploded.userId == ratings_dataframe.userId) & (userRecsExploded.recItemId == ratings_dataframe.itemId),\n",
    "    \"left_outer\"\n",
    ").select(\n",
    "    userRecsExploded.userId,\n",
    "    userRecsExploded.recItemId,\n",
    "    userRecsExploded.predictedRating,\n",
    "    ratings_dataframe.normalized_duration.alias(\"actualRating\")\n",
    ").where(col(\"actualRating\").isNotNull())\n",
    "\n",
    "comparisonDf.show(100)\n"
   ]
  },
  {
   "cell_type": "markdown",
   "metadata": {},
   "source": [
    "##### ALS Recommender with Bias"
   ]
  },
  {
   "cell_type": "code",
   "execution_count": 50,
   "metadata": {},
   "outputs": [
    {
     "name": "stdout",
     "output_type": "stream",
     "text": [
      "rank:  50\n",
      "MaxIter:  5\n",
      "RegParam:  0.15\n",
      "Root-mean-square error = 1.2883306372695404\n"
     ]
    }
   ],
   "source": [
    "from pyspark.sql.functions import mean\n",
    "\n",
    "def global_average(ratings_df, seed):\n",
    "    '''\n",
    "    This function must print the global average rating for all users and\n",
    "    all movies in the training set. Training and test\n",
    "    sets should be determined as before (e.g: as in function basic_als_recommender).\n",
    "    '''\n",
    "    splits = ratings_df.randomSplit([0.8, 0.2], seed)\n",
    "    training_set = splits[0]\n",
    "\n",
    "    #now just return the average of the ratings in the training_set\n",
    "    rating_average = training_set.agg({\"normalized_duration\": \"avg\"}).collect()[0][0]\n",
    "\n",
    "    return rating_average\n",
    "\n",
    "\n",
    "\n",
    "def als_with_bias_recommender(ratings_df, seed):\n",
    "    '''\n",
    "    This function must return the RMSE of recommendations obtained \n",
    "    using ALS + biases. Your ALS model should make predictions for *i*, \n",
    "    the user-item interaction, then you should recompute the predicted \n",
    "    rating with the formula *i+user_mean+item_mean-m* (*m* is the \n",
    "    global rating). The RMSE should compare the original rating column \n",
    "    and the predicted rating column.  Training and test sets should be \n",
    "    determined as before. Your ALS model should use the same parameters \n",
    "    as before and be initialized with the random seed passed as \n",
    "    parameter.\n",
    "    '''\n",
    "\n",
    "    splits = ratings_df.randomSplit([0.8, 0.2], seed)\n",
    "\n",
    "    training_set = splits[0]\n",
    "    test_set = splits[1]\n",
    "\n",
    "    user_mean = training_set.groupby(\"userId\").agg(mean(\"normalized_duration\").alias(\"user_mean\"))\n",
    "    item_mean = training_set.groupby(\"itemId\").agg(mean(\"normalized_duration\").alias(\"item_mean\"))\n",
    "\n",
    "    training_set_with_means = training_set.join(user_mean, \"userId\").join(item_mean, \"itemId\")\n",
    "    test_set_with_means = test_set.join(user_mean, \"userId\").join(item_mean, \"itemId\")\n",
    "\n",
    "    global_mean = global_average(ratings_df, seed)\n",
    "\n",
    "    final_training_set = training_set_with_means.withColumn(\"user_item_interaction\", training_set_with_means.normalized_duration - (\n",
    "                training_set_with_means.user_mean + training_set_with_means.item_mean - global_mean))\n",
    "\n",
    "\n",
    "    #Build the recommendation model\n",
    "    als = ALS(coldStartStrategy=\"drop\", userCol=\"userId\", itemCol=\"itemId\", ratingCol=\"user_item_interaction\", seed=seed)\n",
    "\n",
    "    param_grid = ParamGridBuilder()\\\n",
    "             .addGrid(als.rank, [30, 50, 70])\\\n",
    "             .addGrid(als.maxIter, [5, 10])\\\n",
    "             .addGrid(als.regParam, [0.01, 0.05, 0.15])\\\n",
    "             .build()\n",
    "    \n",
    "    \n",
    "    evaluator = RegressionEvaluator(metricName=\"rmse\", labelCol=\"normalized_duration\", predictionCol=\"prediction\")\n",
    "\n",
    "    cv = CrossValidator(\n",
    "        estimator=als,\n",
    "        estimatorParamMaps=param_grid,\n",
    "        evaluator=evaluator,\n",
    "        numFolds=3)\n",
    "    \n",
    "    model = cv.fit(final_training_set)\n",
    "\n",
    "    best_model = model.bestModel\n",
    "\n",
    "    print('rank: ', best_model.rank)\n",
    "    print('MaxIter: ', best_model._java_obj.parent().getMaxIter())\n",
    "    print('RegParam: ', best_model._java_obj.parent().getRegParam())\n",
    "\n",
    "    # Evaluate the model by computing the RMSE on the test data\n",
    "    predictions = best_model.transform(test_set_with_means)\n",
    "    predictions = predictions.withColumn(\"prediction\", predictions['prediction']+predictions['user_mean']+predictions['item_mean']-global_mean)\n",
    "\n",
    "    rmse = evaluator.evaluate(predictions)\n",
    "\n",
    "    print(\"Root-mean-square error = \" + str(rmse))\n",
    "    return best_model, trainingSet, testSet\n",
    "\n",
    "(best_model, trainingSet, testSet) = als_with_bias_recommender(ratings_dataframe, 123)"
   ]
  },
  {
   "cell_type": "markdown",
   "metadata": {},
   "source": [
    "##### Intermediate Results Discussion\n",
    "\n",
    "the ALS RMSE = 1.1808151204122308\n",
    "\n",
    "the ALS+biases RMSE = 1.2883306372695404\n",
    "\n",
    "Implicit ratings, unlike explicit ratings (e.g., a 1-5 star rating), are derived from user behavior (such as session duration, page views, purchases) and not directly from user preferences. This means they are inherently noisy and less precise. Implicit signals might not always indicate preference but rather engagement or necessity. When biases based on these signals are introduced, they might amplify the noise or inaccuracies in the data, leading to a higher RMSE. \n",
    "\n",
    "In our specific case, a user may have the habit to leave their screen open on a product then going on to do another task. Or maybe they are convinced about a product that they like so much that they did not hesitate to buy without wasting much time on the details page. \n",
    "\n",
    "An interesting direction the project can head to is to try incorporating regularization techniques, to avoid overfitting if this is what is happening."
   ]
  },
  {
   "cell_type": "markdown",
   "metadata": {},
   "source": [
    "#### Item Based Collaborative filtering"
   ]
  },
  {
   "cell_type": "code",
   "execution_count": 181,
   "metadata": {},
   "outputs": [
    {
     "name": "stderr",
     "output_type": "stream",
     "text": [
      "                                                                                \r"
     ]
    },
    {
     "name": "stdout",
     "output_type": "stream",
     "text": [
      "The predicted rating for the item is:  -0.17420239226134607\n",
      "The actual rating for the item is:  -0.1724872045874652\n"
     ]
    }
   ],
   "source": [
    "\n",
    "def k_most_similar_items_with_ratings_rdd(utility_matrix, utility_matrix_t, item_id, userId, k):\n",
    "    '''\n",
    "    Calculates the top k items most similar to the specified item_id for a given user,\n",
    "    based on Pearson correlation of ratings.\n",
    "    '''\n",
    "    # Fetch the row corresponding to the specified item_id\n",
    "    item_row = utility_matrix.filter(utility_matrix.productSKU == item_id).collect()[0]\n",
    "    \n",
    "    # Calculate Pearson correlation for each item with the specified item, excluding the item itself\n",
    "    pearson_correlation_rdd = utility_matrix.rdd.map(lambda row: (row[0], pearson_Correlation(item_row, row))).filter(lambda x: x[0] != item_id)\n",
    "    \n",
    "    # Remove items with no correlation TODO check if this is necessary\n",
    "    # pearson_correlation_rdd  = pearson_correlation_rdd.filter(lambda x: x[1] is not None)\n",
    "    \n",
    "    # Fetch the user-specific ratings for all items\n",
    "    user_ratings = utility_matrix_t.filter(utility_matrix_t.fullVisitorId == userId).collect()[0]\n",
    "\n",
    "    # Map each item to its Pearson correlation and the user's rating for that item\n",
    "    items_with_with_user_rating = pearson_correlation_rdd.map(lambda x: (x[0], x[1], user_ratings[x[0]]))\n",
    "    \n",
    "    # Remove items with no rating\n",
    "    items_with_with_user_rating = items_with_with_user_rating.filter(lambda x: x[2] is not None)\n",
    "    \n",
    "    return items_with_with_user_rating.takeOrdered(k, key=lambda x: -x[1])\n",
    "\n",
    "\n",
    "def item_item_recommender_rdd(utility_matrix, utility_matrix_t, itemId, userId, k):\n",
    "    '''\n",
    "    Predicts a rating for a specified item based on item-item similarity.\n",
    "    '''\n",
    "    # Find similar items and their ratings by the user\n",
    "    similar_items_with_ratings = k_most_similar_items_with_ratings_rdd(utility_matrix, utility_matrix_t, itemId, userId, k)\n",
    "    \n",
    "    # Calculate the weighted sum of ratings (numerator) and sum of similarities (denominator)\n",
    "    numerator = sum([item[1] * item[2] for item in similar_items_with_ratings]) # weighted sum\n",
    "    denominator = sum([item[1] for item in similar_items_with_ratings]) # sum of similarities\n",
    "\n",
    "    if denominator == 0:\n",
    "        return 0\n",
    "    else:\n",
    "        return numerator / denominator\n",
    "    \n",
    "    \n",
    "\n",
    "prediction = item_item_recommender_rdd(utility_matrix_item_item, utility_matrix_user_user,  \"GGOEGAAX0596\", '0167247604162700002', 500)\n",
    "actual = ratings_dataframe.filter(ratings_dataframe.fullVisitorId == '0167247604162700002').filter(ratings_dataframe.productSKU == 'GGOEGAAX0596').collect()[0][3]\n",
    "\n",
    "print(\"The predicted rating for the item is: \", prediction)\n",
    "print(\"The actual rating for the item is: \", actual)"
   ]
  },
  {
   "cell_type": "markdown",
   "metadata": {},
   "source": [
    "#### User Based Collaborative Filtering"
   ]
  },
  {
   "cell_type": "code",
   "execution_count": 179,
   "metadata": {},
   "outputs": [
    {
     "name": "stderr",
     "output_type": "stream",
     "text": [
      "                                                                                \r"
     ]
    },
    {
     "name": "stdout",
     "output_type": "stream",
     "text": [
      "The predicted rating for the item is:  0.03269441886722827\n",
      "The actual rating for the item is:  -0.1724872045874652\n"
     ]
    }
   ],
   "source": [
    "\n",
    "def k_most_similar_users_with_ratings_rdd(utility_matrix, utility_matrix_t, item_id, userId, k):\n",
    "    '''\n",
    "    Calculates the top k users most similar to the specified user for a given item,\n",
    "    '''\n",
    "    # Collect the row corresponding to the specified user\n",
    "    user_row = utility_matrix.filter(utility_matrix.fullVisitorId == userId).collect()[0]\n",
    "    \n",
    "    # Calculate Pearson correlation for each user with the specified user, excluding the user themselves\n",
    "    pearson_correlation_rdd = utility_matrix.rdd.map(lambda row: (row[0], pearson_Correlation(user_row, row))).filter(lambda x: x[0] != userId)\n",
    "\n",
    "    # Remove users with no correlation TODO check if this is necessary\n",
    "    # pearson_correlation_rdd  = pearson_correlation_rdd.filter(lambda x: x[1] is not None)\n",
    "\n",
    "    # Collect the ratings for the specified item across users\n",
    "    item_ratings = utility_matrix_t.filter(utility_matrix_t.productSKU == item_id).collect()[0]\n",
    "    \n",
    "    # Map each user to their Pearson correlation with the specified user and their rating for the specified item\n",
    "    users_with_item_ratings = pearson_correlation_rdd.map(lambda x: (x[0], x[1], item_ratings[x[0]]))\n",
    "    \n",
    "    # Remove users with no rating\n",
    "    users_with_item_ratings = users_with_item_ratings.filter(lambda x: x[2] is not None)\n",
    "    \n",
    "    # Return the top k similar users and their ratings\n",
    "    return users_with_item_ratings.takeOrdered(k, key=lambda x: -x[1])\n",
    "\n",
    "\n",
    "def user_user_recommender_rdd(utility_matrix, utility_matrix_t, itemId, userId, k):\n",
    "    '''\n",
    "    Predicts a rating for a specified item based on user-user similarity.\n",
    "    '''\n",
    "    # Calculate similarities and get ratings for the top k similar users\n",
    "    similar_items_with_ratings = k_most_similar_users_with_ratings_rdd(utility_matrix, utility_matrix_t, itemId, userId, k)\n",
    "    \n",
    "    # Calculate the weighted sum of ratings (numerator) and sum of similarities (denominator)\n",
    "    numerator = sum([item[1] * item[2] for item in similar_items_with_ratings]) # weighted sum of ratings\n",
    "    denominator = sum([item[1] for item in similar_items_with_ratings]) # sum of similarities\n",
    "\n",
    "    if denominator == 0:\n",
    "        return 0\n",
    "    else:\n",
    "        return numerator / denominator\n",
    "    \n",
    "    \n",
    "\n",
    "prediction = user_user_recommender_rdd( utility_matrix_user_user, utility_matrix_item_item, \"GGOEGAAX0596\", '0167247604162700002', 500)\n",
    "actual = ratings_dataframe.filter(ratings_dataframe.fullVisitorId == '0167247604162700002').filter(ratings_dataframe.productSKU == 'GGOEGAAX0596').collect()[0][3]\n",
    "\n",
    "print(\"The predicted rating for the item is: \", prediction)\n",
    "print(\"The actual rating for the item is: \", actual)"
   ]
  },
  {
   "cell_type": "markdown",
   "metadata": {},
   "source": [
    "### Normalization Function Selection: \n",
    "The goal is to identify which normalization technique—MinMax, Z-Score, or Log Transformation—optimizes the performance of the recommendation system."
   ]
  },
  {
   "cell_type": "code",
   "execution_count": 232,
   "metadata": {},
   "outputs": [],
   "source": [
    "import math\n",
    "\n",
    "def evaluate_recommender_with_RMSE(function, utility_matrix,utility_matrix_t,k):\n",
    "    '''\n",
    "    This function must evaluate the recommender system using the specified function\n",
    "    and return the RMSE of the predictions.\n",
    "    '''\n",
    "    user_item_pairs = [\n",
    "        ('0167247604162700002', 'GGOEGAAX0596'),\n",
    "        # ('0834628261584717467', 'GGOEGAAX0325'),\n",
    "        ('008016723867009901', 'GGOEGBPB021199')\n",
    "    ]\n",
    "    predictions = []\n",
    "    for user_id, product_sku in user_item_pairs:\n",
    "        predicted_rating = function(\n",
    "            utility_matrix, \n",
    "            utility_matrix_t,  \n",
    "            product_sku, \n",
    "            user_id, \n",
    "            k\n",
    "        )\n",
    "        \n",
    "        actual_rating = ratings_dataframe.filter(\n",
    "            (ratings_dataframe.fullVisitorId == user_id) & \n",
    "            (ratings_dataframe.productSKU == product_sku)\n",
    "        ).select('normalized_duration').collect()[0][0]  # Assuming 'normalized_duration' is the actual rating\n",
    "        \n",
    "        predictions.append((user_id, product_sku, actual_rating, predicted_rating))\n",
    "\n",
    "    # Convert the list to a DataFrame for easier display \n",
    "    predictions_df = spark.createDataFrame(predictions, [\"userId\", \"productSKU\", \"actual_rating\", \"predicted_rating\"])\n",
    "    predictions_df.show()\n",
    "\n",
    "    squared_errors = [(pred[2] - pred[3]) ** 2 for pred in predictions]\n",
    "    # Calculate RMSE\n",
    "    rmse = math.sqrt(sum(squared_errors) / len(squared_errors))\n",
    "\n",
    "    if(function == user_user_recommender_rdd):\n",
    "        print(f\"RMSE for User Based Recommender: {rmse}\")\n",
    "    else:\n",
    "        print(f\"RMSE for Item Based Recommender: {rmse}\")\n"
   ]
  },
  {
   "cell_type": "code",
   "execution_count": 230,
   "metadata": {},
   "outputs": [
    {
     "name": "stdout",
     "output_type": "stream",
     "text": [
      "\n",
      "===============================================\n",
      "Evaluating the Z Score Normalization function\n",
      "===============================================\n"
     ]
    },
    {
     "name": "stderr",
     "output_type": "stream",
     "text": [
      "                                                                                \r"
     ]
    },
    {
     "name": "stdout",
     "output_type": "stream",
     "text": [
      "+-------------------+--------------+--------------------+--------------------+\n",
      "|             userId|    productSKU|       actual_rating|    predicted_rating|\n",
      "+-------------------+--------------+--------------------+--------------------+\n",
      "|0167247604162700002|  GGOEGAAX0596| -0.1724872045874652|-0.17420239226134607|\n",
      "| 008016723867009901|GGOEGBPB021199|-0.18294400216743212|-0.19347412459520413|\n",
      "+-------------------+--------------+--------------------+--------------------+\n",
      "\n",
      "RMSE for Item Based Recommender: 0.007544048883076649\n"
     ]
    },
    {
     "name": "stderr",
     "output_type": "stream",
     "text": [
      "                                                                                \r"
     ]
    },
    {
     "name": "stdout",
     "output_type": "stream",
     "text": [
      "+-------------------+--------------+--------------------+--------------------+\n",
      "|             userId|    productSKU|       actual_rating|    predicted_rating|\n",
      "+-------------------+--------------+--------------------+--------------------+\n",
      "|0167247604162700002|  GGOEGAAX0596| -0.1724872045874652| 0.03269441886722827|\n",
      "| 008016723867009901|GGOEGBPB021199|-0.18294400216743212|-0.28593456492598723|\n",
      "+-------------------+--------------+--------------------+--------------------+\n",
      "\n",
      "RMSE for User Based Recommender: 0.1623369252832323\n",
      "\n",
      "===============================================\n",
      "Evaluating the Min-Max Normalization function\n",
      "===============================================\n"
     ]
    },
    {
     "name": "stderr",
     "output_type": "stream",
     "text": [
      "                                                                                \r"
     ]
    },
    {
     "name": "stdout",
     "output_type": "stream",
     "text": [
      "+-------------------+--------------+--------------------+--------------------+\n",
      "|             userId|    productSKU|       actual_rating|    predicted_rating|\n",
      "+-------------------+--------------+--------------------+--------------------+\n",
      "|0167247604162700002|  GGOEGAAX0596| -0.1724872045874652|0.001432661943485446|\n",
      "| 008016723867009901|GGOEGBPB021199|-0.18294400216743212|1.384072785141305...|\n",
      "+-------------------+--------------+--------------------+--------------------+\n",
      "\n",
      "RMSE for Item Based Recommender: 0.17855991798647983\n"
     ]
    },
    {
     "name": "stderr",
     "output_type": "stream",
     "text": [
      "                                                                                \r"
     ]
    },
    {
     "name": "stdout",
     "output_type": "stream",
     "text": [
      "+-------------------+--------------+--------------------+--------------------+\n",
      "|             userId|    productSKU|       actual_rating|    predicted_rating|\n",
      "+-------------------+--------------+--------------------+--------------------+\n",
      "|0167247604162700002|  GGOEGAAX0596| -0.1724872045874652|0.015327477330703599|\n",
      "| 008016723867009901|GGOEGBPB021199|-0.18294400216743212|-0.00607106855636...|\n",
      "+-------------------+--------------+--------------------+--------------------+\n",
      "\n",
      "RMSE for User Based Recommender: 0.1824258608150262\n",
      "\n",
      "===============================================\n",
      "Evaluating the Logarithmic Transformation function\n",
      "===============================================\n"
     ]
    },
    {
     "name": "stderr",
     "output_type": "stream",
     "text": [
      "                                                                                \r"
     ]
    },
    {
     "name": "stdout",
     "output_type": "stream",
     "text": [
      "+-------------------+--------------+--------------------+--------------------+\n",
      "|             userId|    productSKU|       actual_rating|    predicted_rating|\n",
      "+-------------------+--------------+--------------------+--------------------+\n",
      "|0167247604162700002|  GGOEGAAX0596| -0.1724872045874652|0.001432661943485446|\n",
      "| 008016723867009901|GGOEGBPB021199|-0.18294400216743212|1.384072785141305...|\n",
      "+-------------------+--------------+--------------------+--------------------+\n",
      "\n",
      "RMSE for Item Based Recommender: 0.17855991798647983\n"
     ]
    },
    {
     "name": "stderr",
     "output_type": "stream",
     "text": [
      "                                                                                \r"
     ]
    },
    {
     "name": "stdout",
     "output_type": "stream",
     "text": [
      "+-------------------+--------------+--------------------+--------------------+\n",
      "|             userId|    productSKU|       actual_rating|    predicted_rating|\n",
      "+-------------------+--------------+--------------------+--------------------+\n",
      "|0167247604162700002|  GGOEGAAX0596| -0.1724872045874652|0.015327477330703599|\n",
      "| 008016723867009901|GGOEGBPB021199|-0.18294400216743212|-0.00607106855636...|\n",
      "+-------------------+--------------+--------------------+--------------------+\n",
      "\n",
      "RMSE for User Based Recommender: 0.1824258608150262\n"
     ]
    }
   ],
   "source": [
    "print(\"\\n===============================================\")\n",
    "print(\"Evaluating the Z Score Normalization function\")\n",
    "print(\"===============================================\")\n",
    "z_score_normalized_df = z_score_normalization(user_item_rating)\n",
    "utility_matrix_item_item = item_item_utility_matrix(z_score_normalized_df)\n",
    "utility_matrix_user_user = user_user_utility_matrix(z_score_normalized_df)\n",
    "\n",
    "evaluate_recommender_with_RMSE(item_item_recommender_rdd, utility_matrix_item_item, utility_matrix_user_user, 500) # Item Based Evaluation\n",
    "evaluate_recommender_with_RMSE(user_user_recommender_rdd, utility_matrix_user_user, utility_matrix_item_item, 500) # User Based Evaluation\n",
    "\n",
    "print(\"\\n===============================================\")\n",
    "print(\"Evaluating the Min-Max Normalization function\")\n",
    "print(\"===============================================\")\n",
    "min_max_normalized_df = min_max_normalization(user_item_rating)\n",
    "utility_matrix_item_item = item_item_utility_matrix(min_max_normalized_df)\n",
    "utility_matrix_user_user = user_user_utility_matrix(min_max_normalized_df)\n",
    "\n",
    "evaluate_recommender_with_RMSE(item_item_recommender_rdd, utility_matrix_item_item, utility_matrix_user_user, 500) # Item Based Evaluation\n",
    "evaluate_recommender_with_RMSE(user_user_recommender_rdd, utility_matrix_user_user, utility_matrix_item_item, 500) # User Based Evaluation\n",
    "\n",
    "print(\"\\n===============================================\")\n",
    "print(\"Evaluating the Logarithmic Transformation function\")\n",
    "print(\"===============================================\")\n",
    "log_normalized_df = min_max_normalization(user_item_rating)\n",
    "utility_matrix_item_item = item_item_utility_matrix(log_normalized_df)\n",
    "utility_matrix_user_user = user_user_utility_matrix(log_normalized_df)\n",
    "\n",
    "evaluate_recommender_with_RMSE(item_item_recommender_rdd, utility_matrix_item_item, utility_matrix_user_user, 500) # Item Based Evaluation\n",
    "evaluate_recommender_with_RMSE(user_user_recommender_rdd, utility_matrix_user_user, utility_matrix_item_item, 500) # User Based Evaluation"
   ]
  },
  {
   "cell_type": "markdown",
   "metadata": {},
   "source": [
    "#### Results:\n",
    "Z-Score Normalization appears to perform exceptionally well with the item-based collaborative filtering approach, yielding a very low RMSE. This suggests that standardizing the ratings to have a mean of 0 and a standard deviation of 1 effectively captures the preference patterns across items, leading to accurate predictions. However, for the user-based approach, the performance is noticeably weaker, although still competitive.\n",
    "\n",
    "Given these results, we chose Z-Score for User and Item Based Filtering"
   ]
  },
  {
   "cell_type": "markdown",
   "metadata": {},
   "source": [
    "## Model Evalutation: User Based and Item Based"
   ]
  },
  {
   "cell_type": "code",
   "execution_count": 233,
   "metadata": {},
   "outputs": [
    {
     "name": "stdout",
     "output_type": "stream",
     "text": [
      "Evaluation for Item Based Recommender:\n"
     ]
    },
    {
     "name": "stderr",
     "output_type": "stream",
     "text": [
      "                                                                                \r"
     ]
    },
    {
     "name": "stdout",
     "output_type": "stream",
     "text": [
      "+-------------------+--------------+--------------------+--------------------+\n",
      "|             userId|    productSKU|       actual_rating|    predicted_rating|\n",
      "+-------------------+--------------+--------------------+--------------------+\n",
      "|0167247604162700002|  GGOEGAAX0596| -0.1724872045874652|0.001432661943485446|\n",
      "| 008016723867009901|GGOEGBPB021199|-0.18294400216743212|1.384072785141305...|\n",
      "+-------------------+--------------+--------------------+--------------------+\n",
      "\n",
      "RMSE for Item Based Recommender: 0.17855991798647983\n",
      "Evaluation for User Based Recommender\n"
     ]
    },
    {
     "name": "stderr",
     "output_type": "stream",
     "text": [
      "                                                                                \r"
     ]
    },
    {
     "name": "stdout",
     "output_type": "stream",
     "text": [
      "+-------------------+--------------+--------------------+--------------------+\n",
      "|             userId|    productSKU|       actual_rating|    predicted_rating|\n",
      "+-------------------+--------------+--------------------+--------------------+\n",
      "|0167247604162700002|  GGOEGAAX0596| -0.1724872045874652|0.015327477330703599|\n",
      "| 008016723867009901|GGOEGBPB021199|-0.18294400216743212|-0.00607106855636...|\n",
      "+-------------------+--------------+--------------------+--------------------+\n",
      "\n",
      "RMSE for User Based Recommender: 0.1824258608150262\n"
     ]
    }
   ],
   "source": [
    "print(\"Evaluation for Item Based Recommender:\")\n",
    "evaluate_recommender_with_RMSE(item_item_recommender_rdd, utility_matrix_item_item, utility_matrix_user_user, 500)\n",
    "print(\"Evaluation for User Based Recommender\")\n",
    "evaluate_recommender_with_RMSE(user_user_recommender_rdd, utility_matrix_user_user, utility_matrix_item_item, 500)"
   ]
  }
 ],
 "metadata": {
  "kernelspec": {
   "display_name": "Python 3",
   "language": "python",
   "name": "python3"
  },
  "language_info": {
   "codemirror_mode": {
    "name": "ipython",
    "version": 3
   },
   "file_extension": ".py",
   "mimetype": "text/x-python",
   "name": "python",
   "nbconvert_exporter": "python",
   "pygments_lexer": "ipython3",
   "version": "3.11.8"
  }
 },
 "nbformat": 4,
 "nbformat_minor": 2
}
