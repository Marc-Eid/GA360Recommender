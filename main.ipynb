{
 "cells": [
  {
   "cell_type": "markdown",
   "source": [
    "# Data Model"
   ],
   "metadata": {
    "collapsed": false
   },
   "id": "e658b19c983664c"
  },
  {
   "cell_type": "markdown",
   "source": [
    "## Data extraction\n",
    "\n",
    "In this step, raw data was extracted from the BigQuery public dataset.\n",
    "10,000 rows from one day of data was extracted as a sample, to test out our model."
   ],
   "metadata": {
    "collapsed": false
   },
   "id": "d4c1a6fbee988d1d"
  },
  {
   "cell_type": "markdown",
   "source": [
    "SELECT fullVisitorId, visitNumber, h.eCommerceAction.action_type, prod.productSKU, h.time, h.hitNumber\n",
    "\n",
    "FROM bigquery-public-data.google_analytics_sample.ga_sessions_20170801, UNNEST(hits) as h, UNNEST(h.product) as prod\n",
    "\n",
    "Where h.eCommerceAction.action_type != '0'\n",
    "\n",
    "order by fullVisitorId asc, visitNumber asc, h.time asc\n",
    "\n",
    "LIMIT 10000"
   ],
   "metadata": {
    "collapsed": false
   },
   "id": "fe02c083a9013c9e"
  },
  {
   "cell_type": "markdown",
   "source": [
    "After running the above query, we got the following set as a result, which we then exported as a CSV:\n",
    "\n",
    "fullVisitorId,visitNumber,action_type,productSKU,time,hitNumber\n",
    "0049931492016965831,1,1,GGOEGEVA022399,96360,6\n",
    "0049931492016965831,1,2,GGOEGEVA022399,96361,7\n",
    "0049931492016965831,1,1,GGOEGEVA022399,106182,8"
   ],
   "metadata": {
    "collapsed": false
   },
   "id": "ee1b94ef7b5bb2f"
  }
 ],
 "metadata": {
  "kernelspec": {
   "display_name": "Python 3",
   "language": "python",
   "name": "python3"
  },
  "language_info": {
   "codemirror_mode": {
    "name": "ipython",
    "version": 2
   },
   "file_extension": ".py",
   "mimetype": "text/x-python",
   "name": "python",
   "nbconvert_exporter": "python",
   "pygments_lexer": "ipython2",
   "version": "2.7.6"
  }
 },
 "nbformat": 4,
 "nbformat_minor": 5
}
